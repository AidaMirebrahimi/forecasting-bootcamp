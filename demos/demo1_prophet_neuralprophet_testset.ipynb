{
  "cells": [
    {
      "cell_type": "markdown",
      "id": "SYomKW1s04Sg",
      "metadata": {
        "id": "SYomKW1s04Sg"
      },
      "source": [
        "# Forecasting Demo 1: Prophet and NeuralProphet\n",
        "\n",
        "This notebook is the first of a series that introduces the application of popular, recently developed time series forecasting methods. In particular, we emphasize the use of consistent evaluation metrics and analysis across all models and model configurations. \n",
        "\n",
        "Use these notebooks as tools to explore the application of various forecasting methods to multivariate time series datasets, and to inspire an experimental approach for comparing multiple models and model configurations.\n",
        "\n",
        "This notebook explores the application of **Prophet** and **NeuralProphet** to exchange rate forecasting."
      ]
    },
    {
      "cell_type": "code",
      "execution_count": 1,
      "id": "inside-wireless",
      "metadata": {
        "id": "inside-wireless"
      },
      "outputs": [
        {
          "name": "stderr",
          "output_type": "stream",
          "text": [
            "Importing plotly failed. Interactive plots will not work.\n"
          ]
        }
      ],
      "source": [
        "if 'google.colab' in str(get_ipython()):\n",
        "    !pip install prophet\n",
        "    !pip install git+https://github.com/ourownstory/neural_prophet.git # may take a while\n",
        "    #!pip install neuralprophet # much faster, but may not have the latest upgrades/bugfixes\n",
        "\n",
        "import matplotlib.pyplot as plt\n",
        "import numpy as np\n",
        "import pandas as pd\n",
        "from prophet import Prophet\n",
        "from neuralprophet import NeuralProphet"
      ]
    },
    {
      "cell_type": "markdown",
      "id": "MsovnLdhfwsu",
      "metadata": {
        "id": "MsovnLdhfwsu"
      },
      "source": [
        "# Data Loading"
      ]
    },
    {
      "cell_type": "markdown",
      "id": "diverse-eight",
      "metadata": {
        "id": "diverse-eight"
      },
      "source": [
        "### Load exchange rate data file"
      ]
    },
    {
      "cell_type": "code",
      "execution_count": 2,
      "id": "XUvJWReJwcMb",
      "metadata": {
        "colab": {
          "base_uri": "https://localhost:8080/"
        },
        "id": "XUvJWReJwcMb",
        "outputId": "f36cc9d8-747b-489c-9a67-2bc82dc6280b"
      },
      "outputs": [],
      "source": [
        "if 'google.colab' in str(get_ipython()):\n",
        "    from google.colab import drive\n",
        "    drive.mount('/content/drive')"
      ]
    },
    {
      "cell_type": "code",
      "execution_count": 3,
      "id": "german-pilot",
      "metadata": {
        "colab": {
          "base_uri": "https://localhost:8080/",
          "height": 424
        },
        "id": "german-pilot",
        "outputId": "84561824-ea24-49ff-a829-46b1a21a563e"
      },
      "outputs": [
        {
          "data": {
            "text/html": [
              "<div>\n",
              "<style scoped>\n",
              "    .dataframe tbody tr th:only-of-type {\n",
              "        vertical-align: middle;\n",
              "    }\n",
              "\n",
              "    .dataframe tbody tr th {\n",
              "        vertical-align: top;\n",
              "    }\n",
              "\n",
              "    .dataframe thead th {\n",
              "        text-align: right;\n",
              "    }\n",
              "</style>\n",
              "<table border=\"1\" class=\"dataframe\">\n",
              "  <thead>\n",
              "    <tr style=\"text-align: right;\">\n",
              "      <th></th>\n",
              "      <th>date</th>\n",
              "      <th>AUD_CLOSE</th>\n",
              "      <th>DKK_CLOSE</th>\n",
              "      <th>EUR_CLOSE</th>\n",
              "      <th>HKD_CLOSE</th>\n",
              "      <th>JPY_CLOSE</th>\n",
              "      <th>MXN_CLOSE</th>\n",
              "      <th>NZD_CLOSE</th>\n",
              "      <th>NOK_CLOSE</th>\n",
              "      <th>SEK_CLOSE</th>\n",
              "      <th>CHF_CLOSE</th>\n",
              "      <th>GBP_CLOSE</th>\n",
              "      <th>USD_CLOSE</th>\n",
              "    </tr>\n",
              "  </thead>\n",
              "  <tbody>\n",
              "    <tr>\n",
              "      <th>0</th>\n",
              "      <td>2007-05-01</td>\n",
              "      <td>0.9200</td>\n",
              "      <td>0.2000</td>\n",
              "      <td>1.5100</td>\n",
              "      <td>0.141970</td>\n",
              "      <td>0.009271</td>\n",
              "      <td>0.10000</td>\n",
              "      <td>0.8200</td>\n",
              "      <td>0.1860</td>\n",
              "      <td>0.1700</td>\n",
              "      <td>0.9100</td>\n",
              "      <td>2.2199</td>\n",
              "      <td>1.1105</td>\n",
              "    </tr>\n",
              "    <tr>\n",
              "      <th>1</th>\n",
              "      <td>2007-05-02</td>\n",
              "      <td>0.9100</td>\n",
              "      <td>0.2000</td>\n",
              "      <td>1.5100</td>\n",
              "      <td>0.141740</td>\n",
              "      <td>0.009232</td>\n",
              "      <td>0.10000</td>\n",
              "      <td>0.8200</td>\n",
              "      <td>0.1854</td>\n",
              "      <td>0.1700</td>\n",
              "      <td>0.9100</td>\n",
              "      <td>2.2055</td>\n",
              "      <td>1.1087</td>\n",
              "    </tr>\n",
              "    <tr>\n",
              "      <th>2</th>\n",
              "      <td>2007-05-03</td>\n",
              "      <td>0.9100</td>\n",
              "      <td>0.2000</td>\n",
              "      <td>1.5000</td>\n",
              "      <td>0.141496</td>\n",
              "      <td>0.009190</td>\n",
              "      <td>0.10000</td>\n",
              "      <td>0.8100</td>\n",
              "      <td>0.1847</td>\n",
              "      <td>0.1600</td>\n",
              "      <td>0.9100</td>\n",
              "      <td>2.1999</td>\n",
              "      <td>1.1066</td>\n",
              "    </tr>\n",
              "    <tr>\n",
              "      <th>3</th>\n",
              "      <td>2007-05-04</td>\n",
              "      <td>0.9100</td>\n",
              "      <td>0.2000</td>\n",
              "      <td>1.5100</td>\n",
              "      <td>0.141616</td>\n",
              "      <td>0.009218</td>\n",
              "      <td>0.10000</td>\n",
              "      <td>0.8100</td>\n",
              "      <td>0.1854</td>\n",
              "      <td>0.1600</td>\n",
              "      <td>0.9100</td>\n",
              "      <td>2.2075</td>\n",
              "      <td>1.1075</td>\n",
              "    </tr>\n",
              "    <tr>\n",
              "      <th>4</th>\n",
              "      <td>2007-05-05</td>\n",
              "      <td>0.9100</td>\n",
              "      <td>0.2000</td>\n",
              "      <td>1.5100</td>\n",
              "      <td>0.141616</td>\n",
              "      <td>0.009218</td>\n",
              "      <td>0.10000</td>\n",
              "      <td>0.8100</td>\n",
              "      <td>0.1854</td>\n",
              "      <td>0.1600</td>\n",
              "      <td>0.9100</td>\n",
              "      <td>2.2075</td>\n",
              "      <td>1.1075</td>\n",
              "    </tr>\n",
              "    <tr>\n",
              "      <th>...</th>\n",
              "      <td>...</td>\n",
              "      <td>...</td>\n",
              "      <td>...</td>\n",
              "      <td>...</td>\n",
              "      <td>...</td>\n",
              "      <td>...</td>\n",
              "      <td>...</td>\n",
              "      <td>...</td>\n",
              "      <td>...</td>\n",
              "      <td>...</td>\n",
              "      <td>...</td>\n",
              "      <td>...</td>\n",
              "      <td>...</td>\n",
              "    </tr>\n",
              "    <tr>\n",
              "      <th>3646</th>\n",
              "      <td>2017-04-24</td>\n",
              "      <td>1.0218</td>\n",
              "      <td>0.1974</td>\n",
              "      <td>1.4684</td>\n",
              "      <td>0.173684</td>\n",
              "      <td>0.012310</td>\n",
              "      <td>0.07215</td>\n",
              "      <td>0.9477</td>\n",
              "      <td>0.1579</td>\n",
              "      <td>0.1525</td>\n",
              "      <td>1.3568</td>\n",
              "      <td>1.7280</td>\n",
              "      <td>1.3511</td>\n",
              "    </tr>\n",
              "    <tr>\n",
              "      <th>3647</th>\n",
              "      <td>2017-04-25</td>\n",
              "      <td>1.0224</td>\n",
              "      <td>0.1994</td>\n",
              "      <td>1.4837</td>\n",
              "      <td>0.174374</td>\n",
              "      <td>0.012210</td>\n",
              "      <td>0.07183</td>\n",
              "      <td>0.9426</td>\n",
              "      <td>0.1586</td>\n",
              "      <td>0.1548</td>\n",
              "      <td>1.3661</td>\n",
              "      <td>1.7407</td>\n",
              "      <td>1.3565</td>\n",
              "    </tr>\n",
              "    <tr>\n",
              "      <th>3648</th>\n",
              "      <td>2017-04-26</td>\n",
              "      <td>1.0176</td>\n",
              "      <td>0.1995</td>\n",
              "      <td>1.4847</td>\n",
              "      <td>0.174965</td>\n",
              "      <td>0.012260</td>\n",
              "      <td>0.07098</td>\n",
              "      <td>0.9382</td>\n",
              "      <td>0.1585</td>\n",
              "      <td>0.1554</td>\n",
              "      <td>1.3707</td>\n",
              "      <td>1.7493</td>\n",
              "      <td>1.3612</td>\n",
              "    </tr>\n",
              "    <tr>\n",
              "      <th>3649</th>\n",
              "      <td>2017-04-27</td>\n",
              "      <td>1.0176</td>\n",
              "      <td>0.1992</td>\n",
              "      <td>1.4815</td>\n",
              "      <td>0.175103</td>\n",
              "      <td>0.012250</td>\n",
              "      <td>0.07151</td>\n",
              "      <td>0.9369</td>\n",
              "      <td>0.1590</td>\n",
              "      <td>0.1543</td>\n",
              "      <td>1.3704</td>\n",
              "      <td>1.7584</td>\n",
              "      <td>1.3624</td>\n",
              "    </tr>\n",
              "    <tr>\n",
              "      <th>3650</th>\n",
              "      <td>2017-04-28</td>\n",
              "      <td>1.0222</td>\n",
              "      <td>0.1999</td>\n",
              "      <td>1.4870</td>\n",
              "      <td>0.175485</td>\n",
              "      <td>0.012250</td>\n",
              "      <td>0.07253</td>\n",
              "      <td>0.9373</td>\n",
              "      <td>0.1590</td>\n",
              "      <td>0.1541</td>\n",
              "      <td>1.3719</td>\n",
              "      <td>1.7679</td>\n",
              "      <td>1.3650</td>\n",
              "    </tr>\n",
              "  </tbody>\n",
              "</table>\n",
              "<p>3651 rows × 13 columns</p>\n",
              "</div>"
            ],
            "text/plain": [
              "           date  AUD_CLOSE  DKK_CLOSE  EUR_CLOSE  HKD_CLOSE  JPY_CLOSE  \\\n",
              "0    2007-05-01     0.9200     0.2000     1.5100   0.141970   0.009271   \n",
              "1    2007-05-02     0.9100     0.2000     1.5100   0.141740   0.009232   \n",
              "2    2007-05-03     0.9100     0.2000     1.5000   0.141496   0.009190   \n",
              "3    2007-05-04     0.9100     0.2000     1.5100   0.141616   0.009218   \n",
              "4    2007-05-05     0.9100     0.2000     1.5100   0.141616   0.009218   \n",
              "...         ...        ...        ...        ...        ...        ...   \n",
              "3646 2017-04-24     1.0218     0.1974     1.4684   0.173684   0.012310   \n",
              "3647 2017-04-25     1.0224     0.1994     1.4837   0.174374   0.012210   \n",
              "3648 2017-04-26     1.0176     0.1995     1.4847   0.174965   0.012260   \n",
              "3649 2017-04-27     1.0176     0.1992     1.4815   0.175103   0.012250   \n",
              "3650 2017-04-28     1.0222     0.1999     1.4870   0.175485   0.012250   \n",
              "\n",
              "      MXN_CLOSE  NZD_CLOSE  NOK_CLOSE  SEK_CLOSE  CHF_CLOSE  GBP_CLOSE  \\\n",
              "0       0.10000     0.8200     0.1860     0.1700     0.9100     2.2199   \n",
              "1       0.10000     0.8200     0.1854     0.1700     0.9100     2.2055   \n",
              "2       0.10000     0.8100     0.1847     0.1600     0.9100     2.1999   \n",
              "3       0.10000     0.8100     0.1854     0.1600     0.9100     2.2075   \n",
              "4       0.10000     0.8100     0.1854     0.1600     0.9100     2.2075   \n",
              "...         ...        ...        ...        ...        ...        ...   \n",
              "3646    0.07215     0.9477     0.1579     0.1525     1.3568     1.7280   \n",
              "3647    0.07183     0.9426     0.1586     0.1548     1.3661     1.7407   \n",
              "3648    0.07098     0.9382     0.1585     0.1554     1.3707     1.7493   \n",
              "3649    0.07151     0.9369     0.1590     0.1543     1.3704     1.7584   \n",
              "3650    0.07253     0.9373     0.1590     0.1541     1.3719     1.7679   \n",
              "\n",
              "      USD_CLOSE  \n",
              "0        1.1105  \n",
              "1        1.1087  \n",
              "2        1.1066  \n",
              "3        1.1075  \n",
              "4        1.1075  \n",
              "...         ...  \n",
              "3646     1.3511  \n",
              "3647     1.3565  \n",
              "3648     1.3612  \n",
              "3649     1.3624  \n",
              "3650     1.3650  \n",
              "\n",
              "[3651 rows x 13 columns]"
            ]
          },
          "execution_count": 3,
          "metadata": {},
          "output_type": "execute_result"
        }
      ],
      "source": [
        "# data_filename = \"/h/ethanj/bootcamp_datasets/exchange_rate/exchange_rate.csv\"\n",
        "data_filename = \"/Volumes/GoogleDrive/My Drive/Forecasting/bootcamp_datasets/boc_exchange/dataset.csv\"\n",
        "# data_filename = \"/content/drive/MyDrive/bootcamp_datasets/exchange_rate/exchange_rate.csv\"\n",
        "data_df = pd.read_csv(data_filename, index_col=0)\n",
        "data_df.index = pd.to_datetime(data_df.index)\n",
        "data_df = data_df.reset_index().rename({'index':'date'}, axis=1)\n",
        "data_df"
      ]
    },
    {
      "cell_type": "markdown",
      "id": "lined-nicholas",
      "metadata": {
        "id": "lined-nicholas"
      },
      "source": [
        "### Split data according to use case\n",
        "\n",
        "For simplicity, this notebook uses only one validation period consisting of the last `lead_time` rows in the dataset. Other notebooks give examples of rolling cross validation using multiple validation periods given by a set of cutoff dates. \n",
        "\n",
        "The purpose of this notebook is to explore a simpler problem formulation using multiple models. The experiments and analysis can be easily generalized for rolling cross validation."
      ]
    },
    {
      "cell_type": "code",
      "execution_count": 34,
      "id": "raised-uniform",
      "metadata": {
        "id": "raised-uniform"
      },
      "outputs": [],
      "source": [
        "lag_time = 60\n",
        "lead_time = 30\n",
        "\n",
        "train_size = 0.8\n",
        "\n",
        "train_df = data_df.iloc[:int(len(data_df)*train_size)]\n",
        "test_df = data_df.iloc[int(len(data_df)*train_size):]\n",
        "\n",
        "# prophet_train_df = data_df.iloc[:-lead_time] \n",
        "# prophet_test_df = data_df.iloc[-lead_time:]\n",
        "\n",
        "# train_df = data_df.iloc[:-lag_time-lead_time]\n",
        "# test_df = data_df.iloc[-lag_time-lead_time:]\n",
        "# test_eval_df = test_df.iloc[-lead_time:]"
      ]
    },
    {
      "cell_type": "markdown",
      "id": "c2801b53",
      "metadata": {},
      "source": [
        "To run inference on a single test example, we need to withhold at least `lag_time + lead_time` observations from the data set. Assuming we want to test a fitted model on all available examples in the test set, the number of testing examples can be computed as follows."
      ]
    },
    {
      "cell_type": "code",
      "execution_count": 26,
      "id": "38ddad46",
      "metadata": {},
      "outputs": [
        {
          "name": "stdout",
          "output_type": "stream",
          "text": [
            "Number of test examples: 641\n"
          ]
        }
      ],
      "source": [
        "n_test_cases = len(test_df) - lag_time - lead_time\n",
        "print(f\"Number of test examples: {n_test_cases}\")"
      ]
    },
    {
      "cell_type": "markdown",
      "id": "8195716a",
      "metadata": {},
      "source": [
        "### Iterating over test examples\n",
        "\n",
        "To help with iterating over test examples, we define a PyTorch-like dataset class so that we can conveniently and cleanly index examples of input/output pairs according to the specified `lag_time` and `lead_time`."
      ]
    },
    {
      "cell_type": "code",
      "execution_count": 60,
      "id": "459edc55",
      "metadata": {},
      "outputs": [],
      "source": [
        "class ForecastingDataset:\n",
        "\n",
        "    def __init__(self, data_df, lag_time, lead_time, feature_columns):\n",
        "        self.n_examples = len(data_df) - lag_time - lead_time\n",
        "        assert self.n_examples >= 0, \"Dataset must contain at least one example.\"\n",
        "        assert \"date\" in data_df.columns or \"ds\" in data_df.columns, \"Source DataFrame must contain a date/ds column.\"\n",
        "\n",
        "        self.df = data_df[feature_columns]\n",
        "        if 'date' in data_df.columns:\n",
        "            self.dates = data_df.date\n",
        "        elif 'ds' in data_df.columns:\n",
        "            self.dates = data_df.ds\n",
        "        self.lag_time = lag_time\n",
        "        self.lead_time = lead_time\n",
        "\n",
        "    def __len__(self):\n",
        "        return self.n_examples\n",
        "\n",
        "    def __getitem__(self, idx):\n",
        "        input = self.df.iloc[idx:idx+lag_time]\n",
        "        output = self.df.iloc[idx+lag_time:idx+lag_time+lead_time]\n",
        "        input_dates = self.dates[idx:idx+lag_time]\n",
        "        output_dates = self.dates[idx+lag_time:idx+lag_time+lead_time]\n",
        "        return input, output, input_dates, output_dates"
      ]
    },
    {
      "cell_type": "code",
      "execution_count": 81,
      "id": "a708bb89",
      "metadata": {},
      "outputs": [],
      "source": [
        "feature_columns = [col for col in test_df if col.endswith(\"_CLOSE\")]\n",
        "test_dataset = ForecastingDataset(test_df, lag_time, lead_time, feature_columns)"
      ]
    },
    {
      "cell_type": "markdown",
      "id": "latin-atlas",
      "metadata": {
        "id": "latin-atlas"
      },
      "source": [
        "# Prophet\n",
        "\n",
        "Univariate forecasting that supports additional *future* regressors. Prophet does not support the inclusion of *lagged regressors*, i.e. it does not support the use of historical values of multiple series to predict a single target series. We include it as a baseline because it is popular, lightweight, interpretable, and performs very well in some domains. \n",
        "\n",
        "Prophet is based on a Generalized Additive Model (GAM):\n",
        "\n",
        "$ y(t) = g(t) + s(t) + h(t) + \\epsilon_t$\n",
        "\n",
        "where $y(t)$ is the target series, $g(t)$ is the trend function, $s(t)$ is the seasonality or periodic function, $h(t)$ is a function reflecting holidays or other irregular events, and $\\epsilon_t$ is an error term that is assumed to be normally distributed.\n",
        "\n",
        "Despite being formulated as an additive model, multiplicative interaction between seasonality and trend components is supported (using a log transform). In the implementation, this is easily configurable using a constructor paramter. See the [documentation](https://facebook.github.io/prophet/docs/multiplicative_seasonality.html) for more details.\n",
        "\n",
        "#### Data Preparation\n",
        "\n",
        "Prophet, like most forecasting packages, imposes its own, specific format for input data. It expects inputs in the form of a Pandas DataFrame with two columns, `ds` and `y`, which correspond to Pandas-formatted timestamps and the target time series, respectively.\n",
        "\n",
        "In this example, we create a Prophet DataFrame by selecting the columns `date` and `OT` from the exchange rate dataset (the name `OT` stands for \"Our Target\" as described in the [Autoformer paper](https://arxiv.org/abs/2106.13008)'s benchmark datasets). We then rename those columns to `ds` and `y`, respectively. \n",
        "\n",
        "Note that the `ds` column is already correctly formatted using the Pandas datetime format, since we converted it immediately after loading the data. When reading CSVs, always be sure to check that datestamps are properly formatted."
      ]
    },
    {
      "cell_type": "code",
      "execution_count": 35,
      "id": "generous-glasgow",
      "metadata": {
        "colab": {
          "base_uri": "https://localhost:8080/",
          "height": 424
        },
        "id": "generous-glasgow",
        "outputId": "90affa3b-a381-42a5-e6db-72f5160a3640"
      },
      "outputs": [
        {
          "data": {
            "text/html": [
              "<div>\n",
              "<style scoped>\n",
              "    .dataframe tbody tr th:only-of-type {\n",
              "        vertical-align: middle;\n",
              "    }\n",
              "\n",
              "    .dataframe tbody tr th {\n",
              "        vertical-align: top;\n",
              "    }\n",
              "\n",
              "    .dataframe thead th {\n",
              "        text-align: right;\n",
              "    }\n",
              "</style>\n",
              "<table border=\"1\" class=\"dataframe\">\n",
              "  <thead>\n",
              "    <tr style=\"text-align: right;\">\n",
              "      <th></th>\n",
              "      <th>ds</th>\n",
              "      <th>AUD_CLOSE</th>\n",
              "      <th>DKK_CLOSE</th>\n",
              "      <th>EUR_CLOSE</th>\n",
              "      <th>HKD_CLOSE</th>\n",
              "      <th>JPY_CLOSE</th>\n",
              "      <th>MXN_CLOSE</th>\n",
              "      <th>NZD_CLOSE</th>\n",
              "      <th>NOK_CLOSE</th>\n",
              "      <th>SEK_CLOSE</th>\n",
              "      <th>CHF_CLOSE</th>\n",
              "      <th>GBP_CLOSE</th>\n",
              "      <th>y</th>\n",
              "    </tr>\n",
              "  </thead>\n",
              "  <tbody>\n",
              "    <tr>\n",
              "      <th>0</th>\n",
              "      <td>2007-05-01</td>\n",
              "      <td>0.9200</td>\n",
              "      <td>0.2000</td>\n",
              "      <td>1.5100</td>\n",
              "      <td>0.141970</td>\n",
              "      <td>0.009271</td>\n",
              "      <td>0.10000</td>\n",
              "      <td>0.8200</td>\n",
              "      <td>0.1860</td>\n",
              "      <td>0.1700</td>\n",
              "      <td>0.9100</td>\n",
              "      <td>2.2199</td>\n",
              "      <td>1.1105</td>\n",
              "    </tr>\n",
              "    <tr>\n",
              "      <th>1</th>\n",
              "      <td>2007-05-02</td>\n",
              "      <td>0.9100</td>\n",
              "      <td>0.2000</td>\n",
              "      <td>1.5100</td>\n",
              "      <td>0.141740</td>\n",
              "      <td>0.009232</td>\n",
              "      <td>0.10000</td>\n",
              "      <td>0.8200</td>\n",
              "      <td>0.1854</td>\n",
              "      <td>0.1700</td>\n",
              "      <td>0.9100</td>\n",
              "      <td>2.2055</td>\n",
              "      <td>1.1087</td>\n",
              "    </tr>\n",
              "    <tr>\n",
              "      <th>2</th>\n",
              "      <td>2007-05-03</td>\n",
              "      <td>0.9100</td>\n",
              "      <td>0.2000</td>\n",
              "      <td>1.5000</td>\n",
              "      <td>0.141496</td>\n",
              "      <td>0.009190</td>\n",
              "      <td>0.10000</td>\n",
              "      <td>0.8100</td>\n",
              "      <td>0.1847</td>\n",
              "      <td>0.1600</td>\n",
              "      <td>0.9100</td>\n",
              "      <td>2.1999</td>\n",
              "      <td>1.1066</td>\n",
              "    </tr>\n",
              "    <tr>\n",
              "      <th>3</th>\n",
              "      <td>2007-05-04</td>\n",
              "      <td>0.9100</td>\n",
              "      <td>0.2000</td>\n",
              "      <td>1.5100</td>\n",
              "      <td>0.141616</td>\n",
              "      <td>0.009218</td>\n",
              "      <td>0.10000</td>\n",
              "      <td>0.8100</td>\n",
              "      <td>0.1854</td>\n",
              "      <td>0.1600</td>\n",
              "      <td>0.9100</td>\n",
              "      <td>2.2075</td>\n",
              "      <td>1.1075</td>\n",
              "    </tr>\n",
              "    <tr>\n",
              "      <th>4</th>\n",
              "      <td>2007-05-05</td>\n",
              "      <td>0.9100</td>\n",
              "      <td>0.2000</td>\n",
              "      <td>1.5100</td>\n",
              "      <td>0.141616</td>\n",
              "      <td>0.009218</td>\n",
              "      <td>0.10000</td>\n",
              "      <td>0.8100</td>\n",
              "      <td>0.1854</td>\n",
              "      <td>0.1600</td>\n",
              "      <td>0.9100</td>\n",
              "      <td>2.2075</td>\n",
              "      <td>1.1075</td>\n",
              "    </tr>\n",
              "    <tr>\n",
              "      <th>...</th>\n",
              "      <td>...</td>\n",
              "      <td>...</td>\n",
              "      <td>...</td>\n",
              "      <td>...</td>\n",
              "      <td>...</td>\n",
              "      <td>...</td>\n",
              "      <td>...</td>\n",
              "      <td>...</td>\n",
              "      <td>...</td>\n",
              "      <td>...</td>\n",
              "      <td>...</td>\n",
              "      <td>...</td>\n",
              "      <td>...</td>\n",
              "    </tr>\n",
              "    <tr>\n",
              "      <th>2915</th>\n",
              "      <td>2015-04-24</td>\n",
              "      <td>0.9524</td>\n",
              "      <td>0.1773</td>\n",
              "      <td>1.3226</td>\n",
              "      <td>0.157028</td>\n",
              "      <td>0.010240</td>\n",
              "      <td>0.07916</td>\n",
              "      <td>0.9250</td>\n",
              "      <td>0.1564</td>\n",
              "      <td>0.1409</td>\n",
              "      <td>1.2761</td>\n",
              "      <td>1.8473</td>\n",
              "      <td>1.2170</td>\n",
              "    </tr>\n",
              "    <tr>\n",
              "      <th>2916</th>\n",
              "      <td>2015-04-25</td>\n",
              "      <td>0.9524</td>\n",
              "      <td>0.1773</td>\n",
              "      <td>1.3226</td>\n",
              "      <td>0.157028</td>\n",
              "      <td>0.010240</td>\n",
              "      <td>0.07916</td>\n",
              "      <td>0.9250</td>\n",
              "      <td>0.1564</td>\n",
              "      <td>0.1409</td>\n",
              "      <td>1.2761</td>\n",
              "      <td>1.8473</td>\n",
              "      <td>1.2170</td>\n",
              "    </tr>\n",
              "    <tr>\n",
              "      <th>2917</th>\n",
              "      <td>2015-04-26</td>\n",
              "      <td>0.9524</td>\n",
              "      <td>0.1773</td>\n",
              "      <td>1.3226</td>\n",
              "      <td>0.157028</td>\n",
              "      <td>0.010240</td>\n",
              "      <td>0.07916</td>\n",
              "      <td>0.9250</td>\n",
              "      <td>0.1564</td>\n",
              "      <td>0.1409</td>\n",
              "      <td>1.2761</td>\n",
              "      <td>1.8473</td>\n",
              "      <td>1.2170</td>\n",
              "    </tr>\n",
              "    <tr>\n",
              "      <th>2918</th>\n",
              "      <td>2015-04-27</td>\n",
              "      <td>0.9500</td>\n",
              "      <td>0.1766</td>\n",
              "      <td>1.3177</td>\n",
              "      <td>0.156142</td>\n",
              "      <td>0.010160</td>\n",
              "      <td>0.07882</td>\n",
              "      <td>0.9249</td>\n",
              "      <td>0.1567</td>\n",
              "      <td>0.1408</td>\n",
              "      <td>1.2655</td>\n",
              "      <td>1.8426</td>\n",
              "      <td>1.2101</td>\n",
              "    </tr>\n",
              "    <tr>\n",
              "      <th>2919</th>\n",
              "      <td>2015-04-28</td>\n",
              "      <td>0.9642</td>\n",
              "      <td>0.1769</td>\n",
              "      <td>1.3202</td>\n",
              "      <td>0.155221</td>\n",
              "      <td>0.010120</td>\n",
              "      <td>0.07881</td>\n",
              "      <td>0.9288</td>\n",
              "      <td>0.1573</td>\n",
              "      <td>0.1409</td>\n",
              "      <td>1.2582</td>\n",
              "      <td>1.8437</td>\n",
              "      <td>1.2030</td>\n",
              "    </tr>\n",
              "  </tbody>\n",
              "</table>\n",
              "<p>2920 rows × 13 columns</p>\n",
              "</div>"
            ],
            "text/plain": [
              "             ds  AUD_CLOSE  DKK_CLOSE  EUR_CLOSE  HKD_CLOSE  JPY_CLOSE  \\\n",
              "0    2007-05-01     0.9200     0.2000     1.5100   0.141970   0.009271   \n",
              "1    2007-05-02     0.9100     0.2000     1.5100   0.141740   0.009232   \n",
              "2    2007-05-03     0.9100     0.2000     1.5000   0.141496   0.009190   \n",
              "3    2007-05-04     0.9100     0.2000     1.5100   0.141616   0.009218   \n",
              "4    2007-05-05     0.9100     0.2000     1.5100   0.141616   0.009218   \n",
              "...         ...        ...        ...        ...        ...        ...   \n",
              "2915 2015-04-24     0.9524     0.1773     1.3226   0.157028   0.010240   \n",
              "2916 2015-04-25     0.9524     0.1773     1.3226   0.157028   0.010240   \n",
              "2917 2015-04-26     0.9524     0.1773     1.3226   0.157028   0.010240   \n",
              "2918 2015-04-27     0.9500     0.1766     1.3177   0.156142   0.010160   \n",
              "2919 2015-04-28     0.9642     0.1769     1.3202   0.155221   0.010120   \n",
              "\n",
              "      MXN_CLOSE  NZD_CLOSE  NOK_CLOSE  SEK_CLOSE  CHF_CLOSE  GBP_CLOSE       y  \n",
              "0       0.10000     0.8200     0.1860     0.1700     0.9100     2.2199  1.1105  \n",
              "1       0.10000     0.8200     0.1854     0.1700     0.9100     2.2055  1.1087  \n",
              "2       0.10000     0.8100     0.1847     0.1600     0.9100     2.1999  1.1066  \n",
              "3       0.10000     0.8100     0.1854     0.1600     0.9100     2.2075  1.1075  \n",
              "4       0.10000     0.8100     0.1854     0.1600     0.9100     2.2075  1.1075  \n",
              "...         ...        ...        ...        ...        ...        ...     ...  \n",
              "2915    0.07916     0.9250     0.1564     0.1409     1.2761     1.8473  1.2170  \n",
              "2916    0.07916     0.9250     0.1564     0.1409     1.2761     1.8473  1.2170  \n",
              "2917    0.07916     0.9250     0.1564     0.1409     1.2761     1.8473  1.2170  \n",
              "2918    0.07882     0.9249     0.1567     0.1408     1.2655     1.8426  1.2101  \n",
              "2919    0.07881     0.9288     0.1573     0.1409     1.2582     1.8437  1.2030  \n",
              "\n",
              "[2920 rows x 13 columns]"
            ]
          },
          "execution_count": 35,
          "metadata": {},
          "output_type": "execute_result"
        }
      ],
      "source": [
        "prophet_model_df = train_df[['date', 'USD_CLOSE']]\n",
        "prophet_model_df = train_df.rename({'date':'ds', 'USD_CLOSE':'y'}, axis=1)\n",
        "prophet_model_df"
      ]
    },
    {
      "cell_type": "markdown",
      "id": "ideal-injury",
      "metadata": {
        "id": "ideal-injury"
      },
      "source": [
        "#### Model Initialization"
      ]
    },
    {
      "cell_type": "code",
      "execution_count": 36,
      "id": "blond-stamp",
      "metadata": {
        "colab": {
          "base_uri": "https://localhost:8080/"
        },
        "id": "blond-stamp",
        "outputId": "ac3aaa63-501a-45b4-b715-77e569bd5c6f"
      },
      "outputs": [
        {
          "name": "stderr",
          "output_type": "stream",
          "text": [
            "INFO:prophet:Disabling daily seasonality. Run prophet with daily_seasonality=True to override this.\n"
          ]
        }
      ],
      "source": [
        "model = Prophet()\n",
        "model = model.fit(prophet_model_df)"
      ]
    },
    {
      "cell_type": "markdown",
      "id": "facial-tracker",
      "metadata": {
        "id": "facial-tracker"
      },
      "source": [
        "### Produce Forecasts\n",
        "\n",
        "To produce a forecast using a fitted Prophet model, you need to pass it a dataframe with the desired timestamps in a column named `ds`. In the example below, we use the fitted model object to produce a dataframe `future` with dates that extend `lag_time` days beyond the training dates. Passing `future` to the fitted model's `predict` function will return a dataframe populated with a detailed forecast, including model component values and confidence ranges. "
      ]
    },
    {
      "cell_type": "code",
      "execution_count": 37,
      "id": "twenty-ghana",
      "metadata": {
        "id": "twenty-ghana"
      },
      "outputs": [],
      "source": [
        "future = model.make_future_dataframe(periods=len(test_df))\n",
        "forecast = model.predict(future)"
      ]
    },
    {
      "cell_type": "code",
      "execution_count": 38,
      "id": "identical-affair",
      "metadata": {
        "colab": {
          "base_uri": "https://localhost:8080/",
          "height": 270
        },
        "id": "identical-affair",
        "outputId": "49d90418-c170-47d3-c353-5ad5c5fdd4f2"
      },
      "outputs": [
        {
          "data": {
            "text/html": [
              "<div>\n",
              "<style scoped>\n",
              "    .dataframe tbody tr th:only-of-type {\n",
              "        vertical-align: middle;\n",
              "    }\n",
              "\n",
              "    .dataframe tbody tr th {\n",
              "        vertical-align: top;\n",
              "    }\n",
              "\n",
              "    .dataframe thead th {\n",
              "        text-align: right;\n",
              "    }\n",
              "</style>\n",
              "<table border=\"1\" class=\"dataframe\">\n",
              "  <thead>\n",
              "    <tr style=\"text-align: right;\">\n",
              "      <th></th>\n",
              "      <th>ds</th>\n",
              "      <th>trend</th>\n",
              "      <th>yhat_lower</th>\n",
              "      <th>yhat_upper</th>\n",
              "      <th>trend_lower</th>\n",
              "      <th>trend_upper</th>\n",
              "      <th>additive_terms</th>\n",
              "      <th>additive_terms_lower</th>\n",
              "      <th>additive_terms_upper</th>\n",
              "      <th>weekly</th>\n",
              "      <th>weekly_lower</th>\n",
              "      <th>weekly_upper</th>\n",
              "      <th>yearly</th>\n",
              "      <th>yearly_lower</th>\n",
              "      <th>yearly_upper</th>\n",
              "      <th>multiplicative_terms</th>\n",
              "      <th>multiplicative_terms_lower</th>\n",
              "      <th>multiplicative_terms_upper</th>\n",
              "      <th>yhat</th>\n",
              "    </tr>\n",
              "  </thead>\n",
              "  <tbody>\n",
              "    <tr>\n",
              "      <th>3646</th>\n",
              "      <td>2017-04-24</td>\n",
              "      <td>1.422376</td>\n",
              "      <td>0.505548</td>\n",
              "      <td>2.395865</td>\n",
              "      <td>0.512460</td>\n",
              "      <td>2.392531</td>\n",
              "      <td>0.001785</td>\n",
              "      <td>0.001785</td>\n",
              "      <td>0.001785</td>\n",
              "      <td>7.251650e-07</td>\n",
              "      <td>7.251650e-07</td>\n",
              "      <td>7.251650e-07</td>\n",
              "      <td>0.001784</td>\n",
              "      <td>0.001784</td>\n",
              "      <td>0.001784</td>\n",
              "      <td>0.0</td>\n",
              "      <td>0.0</td>\n",
              "      <td>0.0</td>\n",
              "      <td>1.424160</td>\n",
              "    </tr>\n",
              "    <tr>\n",
              "      <th>3647</th>\n",
              "      <td>2017-04-25</td>\n",
              "      <td>1.422672</td>\n",
              "      <td>0.508417</td>\n",
              "      <td>2.390410</td>\n",
              "      <td>0.509773</td>\n",
              "      <td>2.394697</td>\n",
              "      <td>0.000846</td>\n",
              "      <td>0.000846</td>\n",
              "      <td>0.000846</td>\n",
              "      <td>-7.142097e-05</td>\n",
              "      <td>-7.142097e-05</td>\n",
              "      <td>-7.142097e-05</td>\n",
              "      <td>0.000918</td>\n",
              "      <td>0.000918</td>\n",
              "      <td>0.000918</td>\n",
              "      <td>0.0</td>\n",
              "      <td>0.0</td>\n",
              "      <td>0.0</td>\n",
              "      <td>1.423519</td>\n",
              "    </tr>\n",
              "    <tr>\n",
              "      <th>3648</th>\n",
              "      <td>2017-04-26</td>\n",
              "      <td>1.422969</td>\n",
              "      <td>0.496111</td>\n",
              "      <td>2.387652</td>\n",
              "      <td>0.507852</td>\n",
              "      <td>2.396863</td>\n",
              "      <td>-0.000088</td>\n",
              "      <td>-0.000088</td>\n",
              "      <td>-0.000088</td>\n",
              "      <td>-1.817842e-04</td>\n",
              "      <td>-1.817842e-04</td>\n",
              "      <td>-1.817842e-04</td>\n",
              "      <td>0.000094</td>\n",
              "      <td>0.000094</td>\n",
              "      <td>0.000094</td>\n",
              "      <td>0.0</td>\n",
              "      <td>0.0</td>\n",
              "      <td>0.0</td>\n",
              "      <td>1.422881</td>\n",
              "    </tr>\n",
              "    <tr>\n",
              "      <th>3649</th>\n",
              "      <td>2017-04-27</td>\n",
              "      <td>1.423265</td>\n",
              "      <td>0.508288</td>\n",
              "      <td>2.399094</td>\n",
              "      <td>0.506021</td>\n",
              "      <td>2.399030</td>\n",
              "      <td>-0.000903</td>\n",
              "      <td>-0.000903</td>\n",
              "      <td>-0.000903</td>\n",
              "      <td>-2.216144e-04</td>\n",
              "      <td>-2.216144e-04</td>\n",
              "      <td>-2.216144e-04</td>\n",
              "      <td>-0.000681</td>\n",
              "      <td>-0.000681</td>\n",
              "      <td>-0.000681</td>\n",
              "      <td>0.0</td>\n",
              "      <td>0.0</td>\n",
              "      <td>0.0</td>\n",
              "      <td>1.422362</td>\n",
              "    </tr>\n",
              "    <tr>\n",
              "      <th>3650</th>\n",
              "      <td>2017-04-28</td>\n",
              "      <td>1.423561</td>\n",
              "      <td>0.503612</td>\n",
              "      <td>2.396546</td>\n",
              "      <td>0.502375</td>\n",
              "      <td>2.401196</td>\n",
              "      <td>-0.001214</td>\n",
              "      <td>-0.001214</td>\n",
              "      <td>-0.001214</td>\n",
              "      <td>1.882022e-04</td>\n",
              "      <td>1.882022e-04</td>\n",
              "      <td>1.882022e-04</td>\n",
              "      <td>-0.001402</td>\n",
              "      <td>-0.001402</td>\n",
              "      <td>-0.001402</td>\n",
              "      <td>0.0</td>\n",
              "      <td>0.0</td>\n",
              "      <td>0.0</td>\n",
              "      <td>1.422347</td>\n",
              "    </tr>\n",
              "  </tbody>\n",
              "</table>\n",
              "</div>"
            ],
            "text/plain": [
              "             ds     trend  yhat_lower  yhat_upper  trend_lower  trend_upper  \\\n",
              "3646 2017-04-24  1.422376    0.505548    2.395865     0.512460     2.392531   \n",
              "3647 2017-04-25  1.422672    0.508417    2.390410     0.509773     2.394697   \n",
              "3648 2017-04-26  1.422969    0.496111    2.387652     0.507852     2.396863   \n",
              "3649 2017-04-27  1.423265    0.508288    2.399094     0.506021     2.399030   \n",
              "3650 2017-04-28  1.423561    0.503612    2.396546     0.502375     2.401196   \n",
              "\n",
              "      additive_terms  additive_terms_lower  additive_terms_upper  \\\n",
              "3646        0.001785              0.001785              0.001785   \n",
              "3647        0.000846              0.000846              0.000846   \n",
              "3648       -0.000088             -0.000088             -0.000088   \n",
              "3649       -0.000903             -0.000903             -0.000903   \n",
              "3650       -0.001214             -0.001214             -0.001214   \n",
              "\n",
              "            weekly  weekly_lower  weekly_upper    yearly  yearly_lower  \\\n",
              "3646  7.251650e-07  7.251650e-07  7.251650e-07  0.001784      0.001784   \n",
              "3647 -7.142097e-05 -7.142097e-05 -7.142097e-05  0.000918      0.000918   \n",
              "3648 -1.817842e-04 -1.817842e-04 -1.817842e-04  0.000094      0.000094   \n",
              "3649 -2.216144e-04 -2.216144e-04 -2.216144e-04 -0.000681     -0.000681   \n",
              "3650  1.882022e-04  1.882022e-04  1.882022e-04 -0.001402     -0.001402   \n",
              "\n",
              "      yearly_upper  multiplicative_terms  multiplicative_terms_lower  \\\n",
              "3646      0.001784                   0.0                         0.0   \n",
              "3647      0.000918                   0.0                         0.0   \n",
              "3648      0.000094                   0.0                         0.0   \n",
              "3649     -0.000681                   0.0                         0.0   \n",
              "3650     -0.001402                   0.0                         0.0   \n",
              "\n",
              "      multiplicative_terms_upper      yhat  \n",
              "3646                         0.0  1.424160  \n",
              "3647                         0.0  1.423519  \n",
              "3648                         0.0  1.422881  \n",
              "3649                         0.0  1.422362  \n",
              "3650                         0.0  1.422347  "
            ]
          },
          "execution_count": 38,
          "metadata": {},
          "output_type": "execute_result"
        }
      ],
      "source": [
        "forecast.tail(5)"
      ]
    },
    {
      "cell_type": "markdown",
      "id": "racial-section",
      "metadata": {
        "id": "racial-section"
      },
      "source": [
        "### Plotting Prophet Forecasts\n",
        "\n",
        "The following code visualizes the application of the fitted Prophet model to both in-sample (training) and out-of-sample (testing) data. Visualization and evaluation of forecasting models using out-of-sample data is crucial for estimating future performance. Notice again that here we are only considering **one** period for out-of-sample performance visualization. Rolling cross validation, where many sequential periods are used for out-of-sample evaluation, is considered in another notebook."
      ]
    },
    {
      "cell_type": "code",
      "execution_count": 45,
      "id": "undefined-drove",
      "metadata": {
        "colab": {
          "base_uri": "https://localhost:8080/",
          "height": 320
        },
        "id": "undefined-drove",
        "outputId": "3532204b-1528-4959-dd55-cee4cdf913b6"
      },
      "outputs": [
        {
          "data": {
            "image/png": "[encoded data removed]",
            "text/plain": [
              "<Figure size 1080x360 with 1 Axes>"
            ]
          },
          "metadata": {
            "needs_background": "light"
          },
          "output_type": "display_data"
        }
      ],
      "source": [
        "fig, ax = plt.subplots(figsize=(15, 5))\n",
        "\n",
        "ax.scatter(prophet_model_df.ds, prophet_model_df['y'], color='black', s=5, label='Train Samples')\n",
        "ax.scatter(test_df.date, test_df['USD_CLOSE'], color='purple', s=5, label='Test Samples')\n",
        "\n",
        "ax.plot(forecast.ds.iloc[:-len(test_df)], \n",
        "        forecast.yhat.iloc[:-len(test_df)], color='blue', label='In-Sample Forecast')\n",
        "\n",
        "ax.fill_between(forecast.ds.iloc[:-len(test_df)], \n",
        "    forecast.yhat_lower.iloc[:-len(test_df)], \n",
        "    forecast.yhat_upper.iloc[:-len(test_df)],\n",
        "    color='blue', label='In-Sample Forecast Range', alpha=0.2)\n",
        "\n",
        "ax.plot(forecast.ds.iloc[-len(test_df):], forecast.yhat.iloc[-len(test_df):], \n",
        "        color='red', label='Out-of-Sample Forecast')\n",
        "\n",
        "ax.fill_between(forecast.ds.iloc[-len(test_df):], \n",
        "    forecast.yhat_lower.iloc[-len(test_df):], \n",
        "    forecast.yhat_upper.iloc[-len(test_df):],\n",
        "    color='red', label='Out-of-Sample Forecast Range', alpha=0.2)\n",
        "\n",
        "ax.legend(loc='upper left')\n",
        "ax.grid(axis='y')"
      ]
    },
    {
      "cell_type": "markdown",
      "id": "8963e899",
      "metadata": {},
      "source": [
        "### Collecting individual forecasts\n",
        "\n",
        "Split single forecast into a collection of forecasts with `lead_time` predictions each."
      ]
    },
    {
      "cell_type": "code",
      "execution_count": 65,
      "id": "b3e47c88",
      "metadata": {},
      "outputs": [
        {
          "data": {
            "image/png": "[encoded data removed]",
            "text/plain": [
              "<Figure size 432x288 with 1 Axes>"
            ]
          },
          "metadata": {
            "needs_background": "light"
          },
          "output_type": "display_data"
        }
      ],
      "source": [
        "forecast_eval_dataset = ForecastingDataset(forecast.iloc[-len(test_df):], lag_time, lead_time, ['yhat'])\n",
        "\n",
        "fig, ax = plt.subplots()\n",
        "\n",
        "for i in range(len(forecast_eval_dataset)):\n",
        "    x, y, x_d, y_d = forecast_eval_dataset[i]\n",
        "    x_gt, y_gt, x_gt_d, y_gt_d = test_dataset[i]\n",
        "    ax.plot(y_d, y, alpha=0.1, color='red')\n",
        "    ax.plot(y_gt_d, y_gt['USD_CLOSE'], alpha=0.1, color='blue')\n",
        "    "
      ]
    },
    {
      "cell_type": "markdown",
      "id": "announced-debate",
      "metadata": {
        "id": "announced-debate"
      },
      "source": [
        "### Evaluation Metrics\n",
        "\n",
        "In order to objectively compare the performance of this and other models on out-of-sample forecasting performance, we will need to collect output in a consistent format and apply a suite of standard evaluation metrics:\n",
        "\n",
        "- Mean Squared Error (MSE)\n",
        "- Root Mean Squared Error (RMSE)\n",
        "- Mean Absolute Error (MAE)\n",
        "- Mean Absolute Percentage Error (MAPE)\n",
        "\n",
        "See the article [Time Series Forecast Error Metrics You Should Know](https://towardsdatascience.com/time-series-forecast-error-metrics-you-should-know-cc88b8c67f27) for an overview of these and other popular forecasting error metrics. \n"
      ]
    },
    {
      "cell_type": "code",
      "execution_count": 77,
      "id": "ambient-drink",
      "metadata": {
        "id": "ambient-drink"
      },
      "outputs": [],
      "source": [
        "from sklearn.metrics import mean_squared_error, mean_absolute_error, mean_absolute_percentage_error\n",
        "\n",
        "metrics = {\n",
        "    'mse': mean_squared_error,\n",
        "    'rmse': lambda y_true, y_pred: np.sqrt(mean_squared_error(y_true, y_pred)),\n",
        "    'mae': mean_absolute_error,\n",
        "    'mape': mean_absolute_percentage_error\n",
        "}"
      ]
    },
    {
      "cell_type": "code",
      "execution_count": 96,
      "id": "1c0897ef",
      "metadata": {},
      "outputs": [],
      "source": [
        "def compute_error_metrics(ground_truth_dataset, forecast_dataset):\n",
        "        \n",
        "    errors = {metric_name:[] for metric_name in metrics.keys()}\n",
        "\n",
        "    for i in range(len(forecast_dataset)):\n",
        "        x, y, x_d, y_d = forecast_dataset[i]\n",
        "        x_gt, y_gt, x_gt_d, y_gt_d = ground_truth_dataset[i]\n",
        "        for metric_name, metric_fn in metrics.items(): \n",
        "            errors[metric_name].append(metric_fn(y_true=y_gt['USD_CLOSE'], y_pred=y))\n",
        "    \n",
        "    return errors\n",
        "\n",
        "error_metrics = compute_error_metrics(test_dataset, forecast_eval_dataset)"
      ]
    },
    {
      "cell_type": "code",
      "execution_count": 156,
      "id": "6216e15a",
      "metadata": {},
      "outputs": [
        {
          "data": {
            "text/plain": [
              "mse     0.004989\n",
              "rmse    0.062002\n",
              "mae     0.060038\n",
              "mape    0.045071\n",
              "Name: prophet_mean_metrics, dtype: float64"
            ]
          },
          "execution_count": 156,
          "metadata": {},
          "output_type": "execute_result"
        }
      ],
      "source": [
        "prophet_mean_metrics = pd.DataFrame(error_metrics).mean(axis=0).rename('prophet_mean_metrics')\n",
        "prophet_std_metrics = pd.DataFrame(error_metrics).std(axis=0).rename('prophet_std_metrics')\n",
        "prophet_max_metrics = pd.DataFrame(error_metrics).max(axis=0).rename('prophet_max_metrics')\n",
        "\n",
        "prophet_mean_metrics"
      ]
    },
    {
      "cell_type": "markdown",
      "id": "understanding-trade",
      "metadata": {
        "id": "understanding-trade"
      },
      "source": [
        "Before applying these metrics, we will start to collect the out-of-sample forecasts produced by the Prophet model together with the ground truth time series. We aim to do this so that it will be easy to incorporate forecasts produced by (possibly many) other models or model configurations. Be sure to use a naming scheme for columns that is easy to parse.\n",
        "\n",
        "Note that in the code below we are collecting the forecast ranges (`yhat_lower` and `yhat_upper`) but not using them directly in this evaluation. Since we may want to examine these ranges in other analyses, we will collect them into `results_df` here and save them to file later."
      ]
    },
    {
      "cell_type": "markdown",
      "id": "speaking-physiology",
      "metadata": {
        "id": "speaking-physiology"
      },
      "source": [
        "Now that we have collected the out-of-sample Prophet forecast and ground truth time series into `results_df`, we iteratively apply the evaluation metrics and collect the results."
      ]
    },
    {
      "cell_type": "markdown",
      "id": "canadian-coating",
      "metadata": {
        "id": "canadian-coating"
      },
      "source": [
        "Now that we have collected baseline evaluation metrics for the Prophet model aplied to our out-of-sample data, we can begin to experiment with other configurations or models. Next, let's explore the NeuralProphet model."
      ]
    },
    {
      "cell_type": "markdown",
      "id": "interracial-karen",
      "metadata": {
        "id": "interracial-karen"
      },
      "source": [
        "# NeuralProphet\n",
        "\n",
        "Let's proceed to explore the [NeuralProphet](https://neuralprophet.com/html/index.html) model. Please review the following resources to learn more:\n",
        "\n",
        "- [Paper](https://arxiv.org/abs/2111.15397)\n",
        "- [Documentation](https://neuralprophet.com/html/contents.html)\n",
        "- [GitHub](https://github.com/ourownstory/neural_prophet)\n",
        "\n",
        "In the words of its developers, NeuralProphet is \"*based on neural networks, inspired by Facebook Prophet and AR-Net, built on PyTorch*\". A very important differentiating feature is that NeuralProphet conveniently supports *lagged regressors*. In the context of this running example, NeuralProphet supports the use of multiple other currencies' time series. With this expanded flexibility, however, the model is more complex, with a greater number of design choices and hyperparameters to consider. \n",
        "\n",
        "The official [documentation on lagged regressors (lagged covariates)](https://neuralprophet.com/html/lagged_covariates_energy_ercot.html) gives several examples for configuring NeuralProphet models to use lagged regressors, but commentary and suggestions on best practices are largely absent. \n",
        "\n",
        "In the following code, we will consider a small number of NeuralProphet model configurations applied to the same forecasting task from above. Importantly, we retain the same train/test (in-sample/out-of-sample) split, and we will apply the same evaluation metrics to NeuralProphet's forecasts. "
      ]
    },
    {
      "cell_type": "markdown",
      "id": "round-attitude",
      "metadata": {
        "id": "round-attitude"
      },
      "source": [
        "### Baseline/Default Model\n",
        "\n",
        "A baseline NeuralProphet model with lagged regressors using default initialization parameters, except:\n",
        "\n",
        "- `n_lags=lag_time`, specifying that the autoregressive component of the model should use the past `lag_time` daily observations as inputs\n",
        "- `n_forecasts=lead_time`, specifying that our use case is to predict the target signal `lead_time` days into the future"
      ]
    },
    {
      "cell_type": "code",
      "execution_count": 114,
      "id": "placed-cooper",
      "metadata": {
        "id": "placed-cooper"
      },
      "outputs": [],
      "source": [
        "np_train_df = train_df.reset_index().rename({'date':'ds', 'USD_CLOSE':'y'}, axis=1).drop('index', axis=1)\n",
        "np_test_df = test_df.reset_index().rename({'date':'ds','USD_CLOSE':'y'}, axis=1).drop('index', axis=1)"
      ]
    },
    {
      "cell_type": "code",
      "execution_count": 115,
      "id": "external-detection",
      "metadata": {
        "id": "external-detection"
      },
      "outputs": [
        {
          "name": "stderr",
          "output_type": "stream",
          "text": [
            "INFO - (NP.utils.set_auto_seasonalities) - Disabling daily seasonality. Run NeuralProphet with daily_seasonality=True to override this.\n",
            "INFO:NP.utils:Disabling daily seasonality. Run NeuralProphet with daily_seasonality=True to override this.\n",
            "INFO - (NP.config.set_auto_batch_epoch) - Auto-set batch_size to 32\n",
            "INFO:NP.config:Auto-set batch_size to 32\n",
            "INFO - (NP.config.set_auto_batch_epoch) - Auto-set epochs to 138\n",
            "INFO:NP.config:Auto-set epochs to 138\n",
            " 82%|████████▏ | 222/272 [00:04<00:00, 52.11it/s]\n",
            "INFO - (NP.utils_torch.lr_range_test) - lr-range-test results: steep: 7.12E-04, min: 4.42E-02\n",
            "INFO:NP.utils_torch:lr-range-test results: steep: 7.12E-04, min: 4.42E-02\n",
            " 82%|████████▏ | 224/272 [00:04<00:00, 49.99it/s]\n",
            "INFO - (NP.utils_torch.lr_range_test) - lr-range-test results: steep: 6.59E-04, min: 4.10E-02\n",
            "INFO:NP.utils_torch:lr-range-test results: steep: 6.59E-04, min: 4.10E-02\n",
            " 82%|████████▏ | 223/272 [00:04<00:00, 51.78it/s]\n",
            "INFO - (NP.utils_torch.lr_range_test) - lr-range-test results: steep: 7.68E-04, min: 4.10E-02\n",
            "INFO:NP.utils_torch:lr-range-test results: steep: 7.68E-04, min: 4.10E-02\n",
            "INFO - (NP.forecaster._init_train_loader) - lr-range-test selected learning rate: 7.12E-04\n",
            "INFO:NP.forecaster:lr-range-test selected learning rate: 7.12E-04\n",
            "Epoch[138/138]: 100%|██████████| 138/138 [00:44<00:00,  3.07it/s, SmoothL1Loss=0.00516, MAE=0.0247, RMSE=0.0325, RegLoss=0]\n"
          ]
        },
        {
          "data": {
            "text/html": [
              "<div>\n",
              "<style scoped>\n",
              "    .dataframe tbody tr th:only-of-type {\n",
              "        vertical-align: middle;\n",
              "    }\n",
              "\n",
              "    .dataframe tbody tr th {\n",
              "        vertical-align: top;\n",
              "    }\n",
              "\n",
              "    .dataframe thead th {\n",
              "        text-align: right;\n",
              "    }\n",
              "</style>\n",
              "<table border=\"1\" class=\"dataframe\">\n",
              "  <thead>\n",
              "    <tr style=\"text-align: right;\">\n",
              "      <th></th>\n",
              "      <th>SmoothL1Loss</th>\n",
              "      <th>MAE</th>\n",
              "      <th>RMSE</th>\n",
              "      <th>RegLoss</th>\n",
              "    </tr>\n",
              "  </thead>\n",
              "  <tbody>\n",
              "    <tr>\n",
              "      <th>0</th>\n",
              "      <td>1.757016</td>\n",
              "      <td>0.708086</td>\n",
              "      <td>0.909553</td>\n",
              "      <td>0.0</td>\n",
              "    </tr>\n",
              "    <tr>\n",
              "      <th>1</th>\n",
              "      <td>1.624830</td>\n",
              "      <td>0.664296</td>\n",
              "      <td>0.858696</td>\n",
              "      <td>0.0</td>\n",
              "    </tr>\n",
              "    <tr>\n",
              "      <th>2</th>\n",
              "      <td>1.478257</td>\n",
              "      <td>0.615908</td>\n",
              "      <td>0.798362</td>\n",
              "      <td>0.0</td>\n",
              "    </tr>\n",
              "    <tr>\n",
              "      <th>3</th>\n",
              "      <td>1.316300</td>\n",
              "      <td>0.562552</td>\n",
              "      <td>0.727164</td>\n",
              "      <td>0.0</td>\n",
              "    </tr>\n",
              "    <tr>\n",
              "      <th>4</th>\n",
              "      <td>1.150565</td>\n",
              "      <td>0.507749</td>\n",
              "      <td>0.649402</td>\n",
              "      <td>0.0</td>\n",
              "    </tr>\n",
              "    <tr>\n",
              "      <th>...</th>\n",
              "      <td>...</td>\n",
              "      <td>...</td>\n",
              "      <td>...</td>\n",
              "      <td>...</td>\n",
              "    </tr>\n",
              "    <tr>\n",
              "      <th>133</th>\n",
              "      <td>0.005167</td>\n",
              "      <td>0.024733</td>\n",
              "      <td>0.032521</td>\n",
              "      <td>0.0</td>\n",
              "    </tr>\n",
              "    <tr>\n",
              "      <th>134</th>\n",
              "      <td>0.005165</td>\n",
              "      <td>0.024715</td>\n",
              "      <td>0.032518</td>\n",
              "      <td>0.0</td>\n",
              "    </tr>\n",
              "    <tr>\n",
              "      <th>135</th>\n",
              "      <td>0.005162</td>\n",
              "      <td>0.024722</td>\n",
              "      <td>0.032511</td>\n",
              "      <td>0.0</td>\n",
              "    </tr>\n",
              "    <tr>\n",
              "      <th>136</th>\n",
              "      <td>0.005159</td>\n",
              "      <td>0.024709</td>\n",
              "      <td>0.032482</td>\n",
              "      <td>0.0</td>\n",
              "    </tr>\n",
              "    <tr>\n",
              "      <th>137</th>\n",
              "      <td>0.005158</td>\n",
              "      <td>0.024706</td>\n",
              "      <td>0.032492</td>\n",
              "      <td>0.0</td>\n",
              "    </tr>\n",
              "  </tbody>\n",
              "</table>\n",
              "<p>138 rows × 4 columns</p>\n",
              "</div>"
            ],
            "text/plain": [
              "     SmoothL1Loss       MAE      RMSE  RegLoss\n",
              "0        1.757016  0.708086  0.909553      0.0\n",
              "1        1.624830  0.664296  0.858696      0.0\n",
              "2        1.478257  0.615908  0.798362      0.0\n",
              "3        1.316300  0.562552  0.727164      0.0\n",
              "4        1.150565  0.507749  0.649402      0.0\n",
              "..            ...       ...       ...      ...\n",
              "133      0.005167  0.024733  0.032521      0.0\n",
              "134      0.005165  0.024715  0.032518      0.0\n",
              "135      0.005162  0.024722  0.032511      0.0\n",
              "136      0.005159  0.024709  0.032482      0.0\n",
              "137      0.005158  0.024706  0.032492      0.0\n",
              "\n",
              "[138 rows x 4 columns]"
            ]
          },
          "execution_count": 115,
          "metadata": {},
          "output_type": "execute_result"
        }
      ],
      "source": [
        "np_model = NeuralProphet(n_lags=lag_time, n_forecasts=lead_time)\n",
        "\n",
        "# Add the non-target feature columns as lagged regressors\n",
        "feature_cols = [col for col in np_train_df if col not in ('USD_CLOSE', 'ds', 'y')]\n",
        "for feature in feature_cols:\n",
        "    np_model.add_lagged_regressor(f'{feature}')\n",
        "    \n",
        "np_model.fit(np_train_df, freq='D')"
      ]
    },
    {
      "cell_type": "markdown",
      "id": "TOY5P1Hq2Ned",
      "metadata": {
        "id": "TOY5P1Hq2Ned"
      },
      "source": [
        "NeuralProphet does not collect forecasts into a single `yhat` variable, but rather into separate `yhats` for each of the lead times. The following function takes a NeuralProphet forecast and returns a time series of its predictions."
      ]
    },
    {
      "cell_type": "code",
      "execution_count": null,
      "id": "3b02fbce",
      "metadata": {},
      "outputs": [],
      "source": [
        "def yhat_from_neuralprophet_forecast(np_forecast, yhat_name):\n",
        "\n",
        "    yhat_columns = ['ds'] + [col for col in np_forecast.columns if \"yhat\" in col]\n",
        "    yhat_df = np_forecast.loc[np_forecast.ds.isin(test_df.date)][yhat_columns].set_index('ds')\n",
        "    yhat_values = np.diag(yhat_df.values)\n",
        "    return yhat_df, pd.Series(yhat_values, index=yhat_df.index, name=yhat_name)"
      ]
    },
    {
      "cell_type": "markdown",
      "id": "25dda902",
      "metadata": {},
      "source": [
        "Iterate over test dataset to produce predictions."
      ]
    },
    {
      "cell_type": "code",
      "execution_count": 162,
      "id": "ccfb774e",
      "metadata": {},
      "outputs": [],
      "source": [
        "def collect_np_forecasts(np_model, test_dataset):\n",
        "\n",
        "    forecasts = []\n",
        "\n",
        "    for i in range(len(test_dataset)):\n",
        "        \n",
        "        x, y, x_d, y_d = test_dataset[i]\n",
        "        x = x.reset_index().rename({'date':'ds', 'USD_CLOSE':'y'}, axis=1).drop('index', axis=1)\n",
        "        x = x.assign(ds=x_d.reset_index().drop('index', axis=1).values)\n",
        "        y = y.reset_index().rename({'date':'ds', 'USD_CLOSE':'y'}, axis=1).drop('index', axis=1)\n",
        "\n",
        "        np_future_df = np_model.make_future_dataframe(x, periods=len(y))\n",
        "        np_forecast = np_model.predict(np_future_df, decompose=False)\n",
        "        _, fc_series = yhat_from_neuralprophet_forecast(np_forecast.iloc[-lead_time:], 'np_yhat')\n",
        "        forecasts.append(fc_series)\n",
        "\n",
        "    return forecasts"
      ]
    },
    {
      "cell_type": "code",
      "execution_count": 151,
      "id": "guided-local",
      "metadata": {
        "colab": {
          "base_uri": "https://localhost:8080/",
          "height": 497
        },
        "id": "guided-local",
        "outputId": "3adad78b-e26f-4c49-a9b1-f39439ff1984"
      },
      "outputs": [],
      "source": [
        "def compute_np_error_metrics(forecasts):\n",
        "\n",
        "    errors = {metric_name:[] for metric_name in metrics.keys()}\n",
        "\n",
        "    for i in range(len(forecasts)):\n",
        "        \n",
        "        fc = forecasts[i]\n",
        "        gt = test_df.loc[test_df.date.isin(fc.index)]\n",
        "        \n",
        "        for metric_name, metric_fn in metrics.items(): \n",
        "                errors[metric_name].append(metric_fn(y_true=gt['USD_CLOSE'], y_pred=fc))\n",
        "\n",
        "    return errors, forecasts\n",
        "\n",
        "forecasts = collect_np_forecasts(np_model, test_dataset)\n",
        "np_baseline_error_metrics, fcs = compute_np_error_metrics(forecasts)"
      ]
    },
    {
      "cell_type": "markdown",
      "id": "b6573d52",
      "metadata": {},
      "source": [
        "### Plot all forecasts at max lead time"
      ]
    },
    {
      "cell_type": "code",
      "execution_count": 153,
      "id": "d0a7ff2c",
      "metadata": {},
      "outputs": [
        {
          "data": {
            "image/png": "[encoded data removed]",
            "text/plain": [
              "<Figure size 432x288 with 1 Axes>"
            ]
          },
          "metadata": {
            "needs_background": "light"
          },
          "output_type": "display_data"
        }
      ],
      "source": [
        "fig, ax = plt.subplots()\n",
        "\n",
        "for i in range(len(forecasts)):\n",
        "\n",
        "    fc = forecasts[i]\n",
        "    gt = test_df.loc[test_df.date.isin(fc.index)]\n",
        "\n",
        "    ax.plot(fc.index[-2:], fc[-2:], alpha=1.0, color='red')\n",
        "    ax.plot(gt.date, gt['USD_CLOSE'], alpha=0.1, color='blue')\n",
        "    "
      ]
    },
    {
      "cell_type": "code",
      "execution_count": 157,
      "id": "7904cfd4",
      "metadata": {},
      "outputs": [
        {
          "data": {
            "text/plain": [
              "mse     0.004831\n",
              "rmse    0.064401\n",
              "mae     0.057256\n",
              "mape    0.043291\n",
              "Name: neuralprophet_mean_metrics, dtype: float64"
            ]
          },
          "execution_count": 157,
          "metadata": {},
          "output_type": "execute_result"
        }
      ],
      "source": [
        "np_baseline_mean_metrics = pd.DataFrame(np_baseline_error_metrics).mean(axis=0).rename('neuralprophet_mean_metrics')\n",
        "np_baseline_std_metrics = pd.DataFrame(np_baseline_error_metrics).std(axis=0).rename('neuralprophet_std_metrics')\n",
        "np_baseline_max_metrics = pd.DataFrame(np_baseline_error_metrics).max(axis=0).rename('neuralprophet_max_metrics')\n",
        "\n",
        "np_baseline_mean_metrics"
      ]
    },
    {
      "cell_type": "code",
      "execution_count": 158,
      "id": "nscbhZHH1Wz6",
      "metadata": {
        "colab": {
          "base_uri": "https://localhost:8080/",
          "height": 265
        },
        "id": "nscbhZHH1Wz6",
        "outputId": "5e838c59-4689-49f3-c8de-b2971ca939f7"
      },
      "outputs": [
        {
          "data": {
            "text/plain": [
              "mse     0.004989\n",
              "rmse    0.062002\n",
              "mae     0.060038\n",
              "mape    0.045071\n",
              "Name: prophet_mean_metrics, dtype: float64"
            ]
          },
          "execution_count": 158,
          "metadata": {},
          "output_type": "execute_result"
        }
      ],
      "source": [
        "prophet_mean_metrics"
      ]
    },
    {
      "cell_type": "code",
      "execution_count": 161,
      "id": "heDUuoUl0wgW",
      "metadata": {
        "colab": {
          "base_uri": "https://localhost:8080/",
          "height": 112
        },
        "id": "heDUuoUl0wgW",
        "outputId": "0c516598-569d-4ce7-a810-e2b2e99e3573"
      },
      "outputs": [
        {
          "data": {
            "text/html": [
              "<div>\n",
              "<style scoped>\n",
              "    .dataframe tbody tr th:only-of-type {\n",
              "        vertical-align: middle;\n",
              "    }\n",
              "\n",
              "    .dataframe tbody tr th {\n",
              "        vertical-align: top;\n",
              "    }\n",
              "\n",
              "    .dataframe thead th {\n",
              "        text-align: right;\n",
              "    }\n",
              "</style>\n",
              "<table border=\"1\" class=\"dataframe\">\n",
              "  <thead>\n",
              "    <tr style=\"text-align: right;\">\n",
              "      <th></th>\n",
              "      <th>mse</th>\n",
              "      <th>rmse</th>\n",
              "      <th>mae</th>\n",
              "      <th>mape</th>\n",
              "    </tr>\n",
              "  </thead>\n",
              "  <tbody>\n",
              "    <tr>\n",
              "      <th>prophet_mean_metrics</th>\n",
              "      <td>0.004989</td>\n",
              "      <td>0.062002</td>\n",
              "      <td>0.060038</td>\n",
              "      <td>0.045071</td>\n",
              "    </tr>\n",
              "    <tr>\n",
              "      <th>neuralprophet_mean_metrics</th>\n",
              "      <td>0.004831</td>\n",
              "      <td>0.064401</td>\n",
              "      <td>0.057256</td>\n",
              "      <td>0.043291</td>\n",
              "    </tr>\n",
              "  </tbody>\n",
              "</table>\n",
              "</div>"
            ],
            "text/plain": [
              "                                 mse      rmse       mae      mape\n",
              "prophet_mean_metrics        0.004989  0.062002  0.060038  0.045071\n",
              "neuralprophet_mean_metrics  0.004831  0.064401  0.057256  0.043291"
            ]
          },
          "execution_count": 161,
          "metadata": {},
          "output_type": "execute_result"
        }
      ],
      "source": [
        "pd.concat((prophet_mean_metrics, np_baseline_mean_metrics), axis=1).T"
      ]
    },
    {
      "cell_type": "markdown",
      "id": "E8ko7L71DXSB",
      "metadata": {
        "id": "E8ko7L71DXSB"
      },
      "source": [
        "### Restricted model\n",
        "\n",
        "The baseline NeuralProphet model does not perform well on out-of-sample data. We can consider multiple changes to the model's configuration and hyperparameters in pursuit of better performance. Let's consider the following configuration that restricts the model to using only the last observed value of last regressors, as opposed to `n_lags` past observations. While less expressive, this model may be less prone to overfitting."
      ]
    },
    {
      "cell_type": "code",
      "execution_count": 163,
      "id": "tJ51Uvw5BFhj",
      "metadata": {
        "id": "tJ51Uvw5BFhj"
      },
      "outputs": [
        {
          "name": "stderr",
          "output_type": "stream",
          "text": [
            "INFO - (NP.utils.set_auto_seasonalities) - Disabling daily seasonality. Run NeuralProphet with daily_seasonality=True to override this.\n",
            "INFO:NP.utils:Disabling daily seasonality. Run NeuralProphet with daily_seasonality=True to override this.\n",
            "INFO - (NP.config.set_auto_batch_epoch) - Auto-set batch_size to 32\n",
            "INFO:NP.config:Auto-set batch_size to 32\n",
            "INFO - (NP.config.set_auto_batch_epoch) - Auto-set epochs to 138\n",
            "INFO:NP.config:Auto-set epochs to 138\n",
            " 93%|█████████▎| 252/272 [00:04<00:00, 57.19it/s]\n",
            "INFO - (NP.utils_torch.lr_range_test) - lr-range-test results: steep: 9.58E-03, min: 3.23E-01\n",
            "INFO:NP.utils_torch:lr-range-test results: steep: 9.58E-03, min: 3.23E-01\n",
            " 92%|█████████▏| 250/272 [00:04<00:00, 57.05it/s]\n",
            "INFO - (NP.utils_torch.lr_range_test) - lr-range-test results: steep: 1.30E-02, min: 3.76E-01\n",
            "INFO:NP.utils_torch:lr-range-test results: steep: 1.30E-02, min: 3.76E-01\n",
            " 92%|█████████▏| 250/272 [00:04<00:00, 56.78it/s]\n",
            "INFO - (NP.utils_torch.lr_range_test) - lr-range-test results: steep: 1.21E-02, min: 3.76E-01\n",
            "INFO:NP.utils_torch:lr-range-test results: steep: 1.21E-02, min: 3.76E-01\n",
            "INFO - (NP.forecaster._init_train_loader) - lr-range-test selected learning rate: 1.15E-02\n",
            "INFO:NP.forecaster:lr-range-test selected learning rate: 1.15E-02\n",
            "Epoch[138/138]: 100%|██████████| 138/138 [00:47<00:00,  2.90it/s, SmoothL1Loss=0.00177, MAE=0.0133, RMSE=0.0189, RegLoss=0]\n"
          ]
        },
        {
          "data": {
            "text/html": [
              "<div>\n",
              "<style scoped>\n",
              "    .dataframe tbody tr th:only-of-type {\n",
              "        vertical-align: middle;\n",
              "    }\n",
              "\n",
              "    .dataframe tbody tr th {\n",
              "        vertical-align: top;\n",
              "    }\n",
              "\n",
              "    .dataframe thead th {\n",
              "        text-align: right;\n",
              "    }\n",
              "</style>\n",
              "<table border=\"1\" class=\"dataframe\">\n",
              "  <thead>\n",
              "    <tr style=\"text-align: right;\">\n",
              "      <th></th>\n",
              "      <th>SmoothL1Loss</th>\n",
              "      <th>MAE</th>\n",
              "      <th>RMSE</th>\n",
              "      <th>RegLoss</th>\n",
              "    </tr>\n",
              "  </thead>\n",
              "  <tbody>\n",
              "    <tr>\n",
              "      <th>0</th>\n",
              "      <td>1.947089</td>\n",
              "      <td>0.771257</td>\n",
              "      <td>0.962676</td>\n",
              "      <td>0.0</td>\n",
              "    </tr>\n",
              "    <tr>\n",
              "      <th>1</th>\n",
              "      <td>1.773446</td>\n",
              "      <td>0.714278</td>\n",
              "      <td>0.895392</td>\n",
              "      <td>0.0</td>\n",
              "    </tr>\n",
              "    <tr>\n",
              "      <th>2</th>\n",
              "      <td>1.583639</td>\n",
              "      <td>0.651742</td>\n",
              "      <td>0.819478</td>\n",
              "      <td>0.0</td>\n",
              "    </tr>\n",
              "    <tr>\n",
              "      <th>3</th>\n",
              "      <td>1.382780</td>\n",
              "      <td>0.585392</td>\n",
              "      <td>0.736475</td>\n",
              "      <td>0.0</td>\n",
              "    </tr>\n",
              "    <tr>\n",
              "      <th>4</th>\n",
              "      <td>1.199520</td>\n",
              "      <td>0.524499</td>\n",
              "      <td>0.660209</td>\n",
              "      <td>0.0</td>\n",
              "    </tr>\n",
              "    <tr>\n",
              "      <th>...</th>\n",
              "      <td>...</td>\n",
              "      <td>...</td>\n",
              "      <td>...</td>\n",
              "      <td>...</td>\n",
              "    </tr>\n",
              "    <tr>\n",
              "      <th>133</th>\n",
              "      <td>0.001779</td>\n",
              "      <td>0.013326</td>\n",
              "      <td>0.018895</td>\n",
              "      <td>0.0</td>\n",
              "    </tr>\n",
              "    <tr>\n",
              "      <th>134</th>\n",
              "      <td>0.001776</td>\n",
              "      <td>0.013303</td>\n",
              "      <td>0.018864</td>\n",
              "      <td>0.0</td>\n",
              "    </tr>\n",
              "    <tr>\n",
              "      <th>135</th>\n",
              "      <td>0.001775</td>\n",
              "      <td>0.013315</td>\n",
              "      <td>0.018832</td>\n",
              "      <td>0.0</td>\n",
              "    </tr>\n",
              "    <tr>\n",
              "      <th>136</th>\n",
              "      <td>0.001773</td>\n",
              "      <td>0.013305</td>\n",
              "      <td>0.018860</td>\n",
              "      <td>0.0</td>\n",
              "    </tr>\n",
              "    <tr>\n",
              "      <th>137</th>\n",
              "      <td>0.001773</td>\n",
              "      <td>0.013299</td>\n",
              "      <td>0.018854</td>\n",
              "      <td>0.0</td>\n",
              "    </tr>\n",
              "  </tbody>\n",
              "</table>\n",
              "<p>138 rows × 4 columns</p>\n",
              "</div>"
            ],
            "text/plain": [
              "     SmoothL1Loss       MAE      RMSE  RegLoss\n",
              "0        1.947089  0.771257  0.962676      0.0\n",
              "1        1.773446  0.714278  0.895392      0.0\n",
              "2        1.583639  0.651742  0.819478      0.0\n",
              "3        1.382780  0.585392  0.736475      0.0\n",
              "4        1.199520  0.524499  0.660209      0.0\n",
              "..            ...       ...       ...      ...\n",
              "133      0.001779  0.013326  0.018895      0.0\n",
              "134      0.001776  0.013303  0.018864      0.0\n",
              "135      0.001775  0.013315  0.018832      0.0\n",
              "136      0.001773  0.013305  0.018860      0.0\n",
              "137      0.001773  0.013299  0.018854      0.0\n",
              "\n",
              "[138 rows x 4 columns]"
            ]
          },
          "execution_count": 163,
          "metadata": {},
          "output_type": "execute_result"
        }
      ],
      "source": [
        "np_model_last_sample_only = NeuralProphet(n_lags=lag_time, n_forecasts=lead_time)\n",
        "\n",
        "# Add the non-target feature columns as lagged regressors\n",
        "feature_cols = [col for col in np_train_df if col not in ('USD_CLOSE', 'ds', 'y')]\n",
        "for feature in feature_cols:\n",
        "    np_model_last_sample_only.add_lagged_regressor(f'{feature}', only_last_value=True)\n",
        "    \n",
        "np_model_last_sample_only.fit(np_train_df, freq='D')"
      ]
    },
    {
      "cell_type": "code",
      "execution_count": 164,
      "id": "4bf3cd52",
      "metadata": {},
      "outputs": [],
      "source": [
        "forecasts = collect_np_forecasts(np_model_last_sample_only, test_dataset)\n",
        "np_last_sample_only_error_metrics, fcs = compute_np_error_metrics(forecasts)"
      ]
    },
    {
      "cell_type": "code",
      "execution_count": 165,
      "id": "aa346d37",
      "metadata": {},
      "outputs": [
        {
          "data": {
            "image/png": "[encoded data removed]",
            "text/plain": [
              "<Figure size 432x288 with 1 Axes>"
            ]
          },
          "metadata": {
            "needs_background": "light"
          },
          "output_type": "display_data"
        }
      ],
      "source": [
        "fig, ax = plt.subplots()\n",
        "\n",
        "for i in range(len(forecasts)):\n",
        "\n",
        "    fc = forecasts[i]\n",
        "    gt = test_df.loc[test_df.date.isin(fc.index)]\n",
        "\n",
        "    ax.plot(fc.index[-2:], fc[-2:], alpha=1.0, color='red')\n",
        "    ax.plot(gt.date, gt['USD_CLOSE'], alpha=0.1, color='blue')"
      ]
    },
    {
      "cell_type": "code",
      "execution_count": 168,
      "id": "242e61cf",
      "metadata": {},
      "outputs": [
        {
          "data": {
            "text/plain": [
              "mse     0.000589\n",
              "rmse    0.021876\n",
              "mae     0.018898\n",
              "mape    0.014188\n",
              "Name: np_last_sample_only_mean_metrics, dtype: float64"
            ]
          },
          "execution_count": 168,
          "metadata": {},
          "output_type": "execute_result"
        }
      ],
      "source": [
        "np_last_sample_only_mean_metrics = pd.DataFrame(np_last_sample_only_error_metrics).mean(axis=0).rename('np_last_sample_only_mean_metrics')\n",
        "np_last_sample_only_std_metrics = pd.DataFrame(np_last_sample_only_error_metrics).std(axis=0).rename('np_last_sample_only_std_metrics')\n",
        "np_last_sample_only_max_metrics = pd.DataFrame(np_last_sample_only_error_metrics).max(axis=0).rename('np_last_sample_only_max_metrics')\n",
        "\n",
        "np_last_sample_only_mean_metrics"
      ]
    },
    {
      "cell_type": "code",
      "execution_count": 169,
      "id": "9b59565b",
      "metadata": {},
      "outputs": [
        {
          "data": {
            "text/html": [
              "<div>\n",
              "<style scoped>\n",
              "    .dataframe tbody tr th:only-of-type {\n",
              "        vertical-align: middle;\n",
              "    }\n",
              "\n",
              "    .dataframe tbody tr th {\n",
              "        vertical-align: top;\n",
              "    }\n",
              "\n",
              "    .dataframe thead th {\n",
              "        text-align: right;\n",
              "    }\n",
              "</style>\n",
              "<table border=\"1\" class=\"dataframe\">\n",
              "  <thead>\n",
              "    <tr style=\"text-align: right;\">\n",
              "      <th></th>\n",
              "      <th>mse</th>\n",
              "      <th>rmse</th>\n",
              "      <th>mae</th>\n",
              "      <th>mape</th>\n",
              "    </tr>\n",
              "  </thead>\n",
              "  <tbody>\n",
              "    <tr>\n",
              "      <th>prophet_mean_metrics</th>\n",
              "      <td>0.004989</td>\n",
              "      <td>0.062002</td>\n",
              "      <td>0.060038</td>\n",
              "      <td>0.045071</td>\n",
              "    </tr>\n",
              "    <tr>\n",
              "      <th>neuralprophet_mean_metrics</th>\n",
              "      <td>0.004831</td>\n",
              "      <td>0.064401</td>\n",
              "      <td>0.057256</td>\n",
              "      <td>0.043291</td>\n",
              "    </tr>\n",
              "    <tr>\n",
              "      <th>np_last_sample_only_mean_metrics</th>\n",
              "      <td>0.000589</td>\n",
              "      <td>0.021876</td>\n",
              "      <td>0.018898</td>\n",
              "      <td>0.014188</td>\n",
              "    </tr>\n",
              "  </tbody>\n",
              "</table>\n",
              "</div>"
            ],
            "text/plain": [
              "                                       mse      rmse       mae      mape\n",
              "prophet_mean_metrics              0.004989  0.062002  0.060038  0.045071\n",
              "neuralprophet_mean_metrics        0.004831  0.064401  0.057256  0.043291\n",
              "np_last_sample_only_mean_metrics  0.000589  0.021876  0.018898  0.014188"
            ]
          },
          "execution_count": 169,
          "metadata": {},
          "output_type": "execute_result"
        }
      ],
      "source": [
        "pd.concat((prophet_mean_metrics, np_baseline_mean_metrics, np_last_sample_only_mean_metrics), axis=1).T"
      ]
    },
    {
      "cell_type": "markdown",
      "id": "rNDiJ6ZZwx6k",
      "metadata": {
        "id": "rNDiJ6ZZwx6k"
      },
      "source": [
        "### Model with Sparse Neural Autoregression"
      ]
    },
    {
      "cell_type": "code",
      "execution_count": 23,
      "id": "YHNbfWRUxDuS",
      "metadata": {
        "id": "YHNbfWRUxDuS"
      },
      "outputs": [
        {
          "name": "stderr",
          "output_type": "stream",
          "text": [
            "INFO - (NP.utils.set_auto_seasonalities) - Disabling daily seasonality. Run NeuralProphet with daily_seasonality=True to override this.\n",
            "INFO:NP.utils:Disabling daily seasonality. Run NeuralProphet with daily_seasonality=True to override this.\n",
            "INFO - (NP.config.set_auto_batch_epoch) - Auto-set batch_size to 32\n",
            "INFO:NP.config:Auto-set batch_size to 32\n",
            "INFO - (NP.config.set_auto_batch_epoch) - Auto-set epochs to 132\n",
            "INFO:NP.config:Auto-set epochs to 132\n",
            "Epoch[132/132]: 100%|██████████| 132/132 [01:11<00:00,  1.83it/s, SmoothL1Loss=0.000685, MAE=0.0113, RMSE=0.0151, RegLoss=0.000137]\n"
          ]
        },
        {
          "data": {
            "text/html": [
              "<div>\n",
              "<style scoped>\n",
              "    .dataframe tbody tr th:only-of-type {\n",
              "        vertical-align: middle;\n",
              "    }\n",
              "\n",
              "    .dataframe tbody tr th {\n",
              "        vertical-align: top;\n",
              "    }\n",
              "\n",
              "    .dataframe thead th {\n",
              "        text-align: right;\n",
              "    }\n",
              "</style>\n",
              "<table border=\"1\" class=\"dataframe\">\n",
              "  <thead>\n",
              "    <tr style=\"text-align: right;\">\n",
              "      <th></th>\n",
              "      <th>SmoothL1Loss</th>\n",
              "      <th>MAE</th>\n",
              "      <th>RMSE</th>\n",
              "      <th>RegLoss</th>\n",
              "    </tr>\n",
              "  </thead>\n",
              "  <tbody>\n",
              "    <tr>\n",
              "      <th>0</th>\n",
              "      <td>1.825703</td>\n",
              "      <td>0.934001</td>\n",
              "      <td>1.203264</td>\n",
              "      <td>0.000000</td>\n",
              "    </tr>\n",
              "    <tr>\n",
              "      <th>1</th>\n",
              "      <td>1.110226</td>\n",
              "      <td>0.632682</td>\n",
              "      <td>0.792531</td>\n",
              "      <td>0.000000</td>\n",
              "    </tr>\n",
              "    <tr>\n",
              "      <th>2</th>\n",
              "      <td>0.942576</td>\n",
              "      <td>0.560292</td>\n",
              "      <td>0.697091</td>\n",
              "      <td>0.000000</td>\n",
              "    </tr>\n",
              "    <tr>\n",
              "      <th>3</th>\n",
              "      <td>0.863202</td>\n",
              "      <td>0.525289</td>\n",
              "      <td>0.653615</td>\n",
              "      <td>0.000000</td>\n",
              "    </tr>\n",
              "    <tr>\n",
              "      <th>4</th>\n",
              "      <td>0.783049</td>\n",
              "      <td>0.490040</td>\n",
              "      <td>0.609291</td>\n",
              "      <td>0.000000</td>\n",
              "    </tr>\n",
              "    <tr>\n",
              "      <th>...</th>\n",
              "      <td>...</td>\n",
              "      <td>...</td>\n",
              "      <td>...</td>\n",
              "      <td>...</td>\n",
              "    </tr>\n",
              "    <tr>\n",
              "      <th>127</th>\n",
              "      <td>0.000688</td>\n",
              "      <td>0.011321</td>\n",
              "      <td>0.015119</td>\n",
              "      <td>0.000137</td>\n",
              "    </tr>\n",
              "    <tr>\n",
              "      <th>128</th>\n",
              "      <td>0.000687</td>\n",
              "      <td>0.011305</td>\n",
              "      <td>0.015089</td>\n",
              "      <td>0.000137</td>\n",
              "    </tr>\n",
              "    <tr>\n",
              "      <th>129</th>\n",
              "      <td>0.000686</td>\n",
              "      <td>0.011304</td>\n",
              "      <td>0.015078</td>\n",
              "      <td>0.000137</td>\n",
              "    </tr>\n",
              "    <tr>\n",
              "      <th>130</th>\n",
              "      <td>0.000685</td>\n",
              "      <td>0.011292</td>\n",
              "      <td>0.015089</td>\n",
              "      <td>0.000137</td>\n",
              "    </tr>\n",
              "    <tr>\n",
              "      <th>131</th>\n",
              "      <td>0.000685</td>\n",
              "      <td>0.011292</td>\n",
              "      <td>0.015094</td>\n",
              "      <td>0.000137</td>\n",
              "    </tr>\n",
              "  </tbody>\n",
              "</table>\n",
              "<p>132 rows × 4 columns</p>\n",
              "</div>"
            ],
            "text/plain": [
              "     SmoothL1Loss       MAE      RMSE   RegLoss\n",
              "0        1.825703  0.934001  1.203264  0.000000\n",
              "1        1.110226  0.632682  0.792531  0.000000\n",
              "2        0.942576  0.560292  0.697091  0.000000\n",
              "3        0.863202  0.525289  0.653615  0.000000\n",
              "4        0.783049  0.490040  0.609291  0.000000\n",
              "..            ...       ...       ...       ...\n",
              "127      0.000688  0.011321  0.015119  0.000137\n",
              "128      0.000687  0.011305  0.015089  0.000137\n",
              "129      0.000686  0.011304  0.015078  0.000137\n",
              "130      0.000685  0.011292  0.015089  0.000137\n",
              "131      0.000685  0.011292  0.015094  0.000137\n",
              "\n",
              "[132 rows x 4 columns]"
            ]
          },
          "execution_count": 23,
          "metadata": {},
          "output_type": "execute_result"
        }
      ],
      "source": [
        "np_model_sparse_nar = NeuralProphet(n_lags=lag_time, \n",
        "                                    n_forecasts=lead_time,\n",
        "                                    learning_rate=1e-2,\n",
        "                                    num_hidden_layers=1,\n",
        "                                    d_hidden=16,\n",
        "                                    ar_sparsity=0.9\n",
        "                                    )\n",
        "\n",
        "# Add the non-target feature columns as lagged regressors\n",
        "feature_cols = [col for col in np_train_df if col not in ('USD_CLOSE', 'ds', 'y')]\n",
        "for feature in feature_cols:\n",
        "    np_model_sparse_nar.add_lagged_regressor(f'{feature}')\n",
        "    \n",
        "np_model_sparse_nar.fit(np_train_df, freq='D')"
      ]
    },
    {
      "cell_type": "code",
      "execution_count": 24,
      "id": "ze0WROiEz1bd",
      "metadata": {
        "id": "ze0WROiEz1bd"
      },
      "outputs": [
        {
          "data": {
            "image/png": "[encoded data removed]",
            "text/plain": [
              "<Figure size 432x288 with 1 Axes>"
            ]
          },
          "metadata": {
            "needs_background": "light"
          },
          "output_type": "display_data"
        }
      ],
      "source": [
        "np_future_df_sparse_nar = np_model_sparse_nar.make_future_dataframe(np_test_df.iloc[:lag_time], periods=lead_time)\n",
        "np_forecast_sparse_nar = np_model_sparse_nar.predict(np_future_df_sparse_nar, decompose=False)\n",
        "yhat_df, results_df['neuralprophet_sparse_nar_yhat'] = yhat_from_neuralprophet_forecast(np_forecast_sparse_nar, 'neuralprophet_sparse_nar_yhat')\n",
        "plot_results(results_df)"
      ]
    },
    {
      "cell_type": "code",
      "execution_count": 26,
      "id": "gJszSXMA0NJO",
      "metadata": {
        "colab": {
          "base_uri": "https://localhost:8080/",
          "height": 175
        },
        "id": "gJszSXMA0NJO",
        "outputId": "55eff862-a844-4622-d509-d0978776eecf"
      },
      "outputs": [
        {
          "data": {
            "text/html": [
              "<div>\n",
              "<style scoped>\n",
              "    .dataframe tbody tr th:only-of-type {\n",
              "        vertical-align: middle;\n",
              "    }\n",
              "\n",
              "    .dataframe tbody tr th {\n",
              "        vertical-align: top;\n",
              "    }\n",
              "\n",
              "    .dataframe thead th {\n",
              "        text-align: right;\n",
              "    }\n",
              "</style>\n",
              "<table border=\"1\" class=\"dataframe\">\n",
              "  <thead>\n",
              "    <tr style=\"text-align: right;\">\n",
              "      <th></th>\n",
              "      <th>mse</th>\n",
              "      <th>rmse</th>\n",
              "      <th>mae</th>\n",
              "      <th>mape</th>\n",
              "    </tr>\n",
              "  </thead>\n",
              "  <tbody>\n",
              "    <tr>\n",
              "      <th>neuralprophet_last_sample_only_yhat</th>\n",
              "      <td>0.000189</td>\n",
              "      <td>0.013761</td>\n",
              "      <td>0.010566</td>\n",
              "      <td>0.007837</td>\n",
              "    </tr>\n",
              "    <tr>\n",
              "      <th>neuralprophet_yhat</th>\n",
              "      <td>0.000521</td>\n",
              "      <td>0.022818</td>\n",
              "      <td>0.018338</td>\n",
              "      <td>0.013611</td>\n",
              "    </tr>\n",
              "    <tr>\n",
              "      <th>neuralprophet_sparse_nar_yhat</th>\n",
              "      <td>0.000592</td>\n",
              "      <td>0.024330</td>\n",
              "      <td>0.019476</td>\n",
              "      <td>0.014455</td>\n",
              "    </tr>\n",
              "    <tr>\n",
              "      <th>prophet_yhat</th>\n",
              "      <td>0.000905</td>\n",
              "      <td>0.030076</td>\n",
              "      <td>0.025326</td>\n",
              "      <td>0.018790</td>\n",
              "    </tr>\n",
              "  </tbody>\n",
              "</table>\n",
              "</div>"
            ],
            "text/plain": [
              "                                          mse      rmse       mae      mape\n",
              "neuralprophet_last_sample_only_yhat  0.000189  0.013761  0.010566  0.007837\n",
              "neuralprophet_yhat                   0.000521  0.022818  0.018338  0.013611\n",
              "neuralprophet_sparse_nar_yhat        0.000592  0.024330  0.019476  0.014455\n",
              "prophet_yhat                         0.000905  0.030076  0.025326  0.018790"
            ]
          },
          "execution_count": 26,
          "metadata": {},
          "output_type": "execute_result"
        }
      ],
      "source": [
        "eval_columns = ['prophet_yhat', \n",
        "                'neuralprophet_yhat', \n",
        "                'neuralprophet_last_sample_only_yhat',\n",
        "                'neuralprophet_sparse_nar_yhat',\n",
        "                ] \n",
        "apply_eval_metrics(results_df, eval_columns, metrics)"
      ]
    },
    {
      "cell_type": "markdown",
      "id": "J7GuAAzvwUNF",
      "metadata": {
        "id": "J7GuAAzvwUNF"
      },
      "source": [
        "# Reflections and Next Steps\n",
        "\n",
        "So far, the best performing model on the exchange rates dataset is the baseline, univariate Prophet model. Using this very simple experiment using a single period for out-of-sample forecast evaluation, we have failed to find a configuration of NeuralProphet (which includes other currency values as additional covariates or features) that outperforms the univariate baseline. This reflects a common challenge in forecasting: how to incorporate additional sources of information such that they reliably improve forecasts over univariate baselines?\n",
        "\n",
        "Of course, we have only considered a very small number of comfigurations using NeuralProphet, many more model and hyperparameter configurations are possible. Please refer to the [NeuralProphet documentation](https://neuralprophet.com/html/contents.html) for detailed information. However, to *find* a better configuration may require significant effort, either manual or automated (via a hyperparameter search, for example). In practical forecasting use cases, it may be important to consider the time, resources, and effort that are needed to find a forecasting model that is better than  baseline.\n",
        "\n",
        "The following notebooks in this series will cover additional models (N-BEATS and DeepAR) as well as rolling cross validation using Prophet. In order to compare the out-of-sample forecasts produced by this notebook to others, the `results_df` DataFrame is saved below. Hopefully we will find a model that can outperform Prophet in our out-of-sample evaluation experiment!\n"
      ]
    },
    {
      "cell_type": "code",
      "execution_count": 27,
      "id": "AWA0tjyfGQWD",
      "metadata": {
        "id": "AWA0tjyfGQWD"
      },
      "outputs": [
        {
          "ename": "FileNotFoundError",
          "evalue": "[Errno 2] No such file or directory: '/content/drive/MyDrive/bootcamp_datasets/exchange_rate/exchange_rate_results_notebook1.csv'",
          "output_type": "error",
          "traceback": [
            "\u001b[0;31m---------------------------------------------------------------------------\u001b[0m",
            "\u001b[0;31mFileNotFoundError\u001b[0m                         Traceback (most recent call last)",
            "\u001b[0;32m<ipython-input-27-8786f9e73f11>\u001b[0m in \u001b[0;36m<module>\u001b[0;34m\u001b[0m\n\u001b[1;32m      1\u001b[0m \u001b[0moutput_filename\u001b[0m \u001b[0;34m=\u001b[0m \u001b[0;34m\"/content/drive/MyDrive/bootcamp_datasets/exchange_rate/exchange_rate_results_notebook1.csv\"\u001b[0m\u001b[0;34m\u001b[0m\u001b[0;34m\u001b[0m\u001b[0m\n\u001b[0;32m----> 2\u001b[0;31m \u001b[0mresults_df\u001b[0m\u001b[0;34m.\u001b[0m\u001b[0mto_csv\u001b[0m\u001b[0;34m(\u001b[0m\u001b[0moutput_filename\u001b[0m\u001b[0;34m)\u001b[0m\u001b[0;34m\u001b[0m\u001b[0;34m\u001b[0m\u001b[0m\n\u001b[0m",
            "\u001b[0;32m/usr/local/anaconda3/envs/torch/lib/python3.8/site-packages/pandas/core/generic.py\u001b[0m in \u001b[0;36mto_csv\u001b[0;34m(self, path_or_buf, sep, na_rep, float_format, columns, header, index, index_label, mode, encoding, compression, quoting, quotechar, line_terminator, chunksize, date_format, doublequote, escapechar, decimal, errors, storage_options)\u001b[0m\n\u001b[1;32m   3461\u001b[0m         )\n\u001b[1;32m   3462\u001b[0m \u001b[0;34m\u001b[0m\u001b[0m\n\u001b[0;32m-> 3463\u001b[0;31m         return DataFrameRenderer(formatter).to_csv(\n\u001b[0m\u001b[1;32m   3464\u001b[0m             \u001b[0mpath_or_buf\u001b[0m\u001b[0;34m,\u001b[0m\u001b[0;34m\u001b[0m\u001b[0;34m\u001b[0m\u001b[0m\n\u001b[1;32m   3465\u001b[0m             \u001b[0mline_terminator\u001b[0m\u001b[0;34m=\u001b[0m\u001b[0mline_terminator\u001b[0m\u001b[0;34m,\u001b[0m\u001b[0;34m\u001b[0m\u001b[0;34m\u001b[0m\u001b[0m\n",
            "\u001b[0;32m/usr/local/anaconda3/envs/torch/lib/python3.8/site-packages/pandas/io/formats/format.py\u001b[0m in \u001b[0;36mto_csv\u001b[0;34m(self, path_or_buf, encoding, sep, columns, index_label, mode, compression, quoting, quotechar, line_terminator, chunksize, date_format, doublequote, escapechar, errors, storage_options)\u001b[0m\n\u001b[1;32m   1103\u001b[0m             \u001b[0mformatter\u001b[0m\u001b[0;34m=\u001b[0m\u001b[0mself\u001b[0m\u001b[0;34m.\u001b[0m\u001b[0mfmt\u001b[0m\u001b[0;34m,\u001b[0m\u001b[0;34m\u001b[0m\u001b[0;34m\u001b[0m\u001b[0m\n\u001b[1;32m   1104\u001b[0m         )\n\u001b[0;32m-> 1105\u001b[0;31m         \u001b[0mcsv_formatter\u001b[0m\u001b[0;34m.\u001b[0m\u001b[0msave\u001b[0m\u001b[0;34m(\u001b[0m\u001b[0;34m)\u001b[0m\u001b[0;34m\u001b[0m\u001b[0;34m\u001b[0m\u001b[0m\n\u001b[0m\u001b[1;32m   1106\u001b[0m \u001b[0;34m\u001b[0m\u001b[0m\n\u001b[1;32m   1107\u001b[0m         \u001b[0;32mif\u001b[0m \u001b[0mcreated_buffer\u001b[0m\u001b[0;34m:\u001b[0m\u001b[0;34m\u001b[0m\u001b[0;34m\u001b[0m\u001b[0m\n",
            "\u001b[0;32m/usr/local/anaconda3/envs/torch/lib/python3.8/site-packages/pandas/io/formats/csvs.py\u001b[0m in \u001b[0;36msave\u001b[0;34m(self)\u001b[0m\n\u001b[1;32m    235\u001b[0m         \"\"\"\n\u001b[1;32m    236\u001b[0m         \u001b[0;31m# apply compression and byte/text conversion\u001b[0m\u001b[0;34m\u001b[0m\u001b[0;34m\u001b[0m\u001b[0;34m\u001b[0m\u001b[0m\n\u001b[0;32m--> 237\u001b[0;31m         with get_handle(\n\u001b[0m\u001b[1;32m    238\u001b[0m             \u001b[0mself\u001b[0m\u001b[0;34m.\u001b[0m\u001b[0mfilepath_or_buffer\u001b[0m\u001b[0;34m,\u001b[0m\u001b[0;34m\u001b[0m\u001b[0;34m\u001b[0m\u001b[0m\n\u001b[1;32m    239\u001b[0m             \u001b[0mself\u001b[0m\u001b[0;34m.\u001b[0m\u001b[0mmode\u001b[0m\u001b[0;34m,\u001b[0m\u001b[0;34m\u001b[0m\u001b[0;34m\u001b[0m\u001b[0m\n",
            "\u001b[0;32m/usr/local/anaconda3/envs/torch/lib/python3.8/site-packages/pandas/io/common.py\u001b[0m in \u001b[0;36mget_handle\u001b[0;34m(path_or_buf, mode, encoding, compression, memory_map, is_text, errors, storage_options)\u001b[0m\n\u001b[1;32m    699\u001b[0m         \u001b[0;32mif\u001b[0m \u001b[0mioargs\u001b[0m\u001b[0;34m.\u001b[0m\u001b[0mencoding\u001b[0m \u001b[0;32mand\u001b[0m \u001b[0;34m\"b\"\u001b[0m \u001b[0;32mnot\u001b[0m \u001b[0;32min\u001b[0m \u001b[0mioargs\u001b[0m\u001b[0;34m.\u001b[0m\u001b[0mmode\u001b[0m\u001b[0;34m:\u001b[0m\u001b[0;34m\u001b[0m\u001b[0;34m\u001b[0m\u001b[0m\n\u001b[1;32m    700\u001b[0m             \u001b[0;31m# Encoding\u001b[0m\u001b[0;34m\u001b[0m\u001b[0;34m\u001b[0m\u001b[0;34m\u001b[0m\u001b[0m\n\u001b[0;32m--> 701\u001b[0;31m             handle = open(\n\u001b[0m\u001b[1;32m    702\u001b[0m                 \u001b[0mhandle\u001b[0m\u001b[0;34m,\u001b[0m\u001b[0;34m\u001b[0m\u001b[0;34m\u001b[0m\u001b[0m\n\u001b[1;32m    703\u001b[0m                 \u001b[0mioargs\u001b[0m\u001b[0;34m.\u001b[0m\u001b[0mmode\u001b[0m\u001b[0;34m,\u001b[0m\u001b[0;34m\u001b[0m\u001b[0;34m\u001b[0m\u001b[0m\n",
            "\u001b[0;31mFileNotFoundError\u001b[0m: [Errno 2] No such file or directory: '/content/drive/MyDrive/bootcamp_datasets/exchange_rate/exchange_rate_results_notebook1.csv'"
          ]
        }
      ],
      "source": [
        "output_filename = \"/content/drive/MyDrive/bootcamp_datasets/exchange_rate/exchange_rate_results_notebook1.csv\"\n",
        "results_df.to_csv(output_filename)"
      ]
    }
  ],
  "metadata": {
    "colab": {
      "collapsed_sections": [],
      "name": "exchange_dataset.ipynb",
      "provenance": [],
      "toc_visible": true
    },
    "interpreter": {
      "hash": "e7915587377f13d9edba30ea11b3c98d6b26a63b60775c72ad031792b92d4187"
    },
    "kernelspec": {
      "display_name": "Forecasting",
      "language": "python",
      "name": "python3"
    },
    "language_info": {
      "codemirror_mode": {
        "name": "ipython",
        "version": 3
      },
      "file_extension": ".py",
      "mimetype": "text/x-python",
      "name": "python",
      "nbconvert_exporter": "python",
      "pygments_lexer": "ipython3",
      "version": "3.8.3"
    }
  },
  "nbformat": 4,
  "nbformat_minor": 5
}
