{
  "cells": [
    {
      "cell_type": "markdown",
      "id": "SYomKW1s04Sg",
      "metadata": {
        "id": "SYomKW1s04Sg"
      },
      "source": [
        "# Forecasting Demo 1: Prophet and NeuralProphet\n",
        "\n",
        "This notebook is the first of a series that introduces the application of popular, recently developed time series forecasting methods. In particular, we emphasize the use of consistent evaluation metrics and analysis across all models and model configurations. \n",
        "\n",
        "Use these notebooks as tools to explore the application of various forecasting methods to multivariate time series datasets, and to inspire an experimental approach for comparing multiple models and model configurations.\n",
        "\n",
        "This notebook explores the application of **Prophet** and **NeuralProphet** to exchange rate forecasting."
      ]
    },
    {
      "cell_type": "code",
      "execution_count": null,
      "id": "inside-wireless",
      "metadata": {
        "id": "inside-wireless"
      },
      "outputs": [],
      "source": [
        "if 'google.colab' in str(get_ipython()):\n",
        "    !pip install prophet\n",
        "    !pip install git+https://github.com/ourownstory/neural_prophet.git # may take a while\n",
        "    #!pip install neuralprophet # much faster, but may not have the latest upgrades/bugfixes\n",
        "\n",
        "import matplotlib.pyplot as plt\n",
        "import numpy as np\n",
        "import pandas as pd\n",
        "from prophet import Prophet\n",
        "from neuralprophet import NeuralProphet"
      ]
    },
    {
      "cell_type": "markdown",
      "id": "MsovnLdhfwsu",
      "metadata": {
        "id": "MsovnLdhfwsu"
      },
      "source": [
        "# Data Loading"
      ]
    },
    {
      "cell_type": "markdown",
      "id": "diverse-eight",
      "metadata": {
        "id": "diverse-eight"
      },
      "source": [
        "### Load exchange rate data file"
      ]
    },
    {
      "cell_type": "code",
      "execution_count": 2,
      "id": "XUvJWReJwcMb",
      "metadata": {
        "colab": {
          "base_uri": "https://localhost:8080/"
        },
        "id": "XUvJWReJwcMb",
        "outputId": "f36cc9d8-747b-489c-9a67-2bc82dc6280b"
      },
      "outputs": [],
      "source": [
        "if 'google.colab' in str(get_ipython()):\n",
        "    from google.colab import drive\n",
        "    drive.mount('/content/drive')"
      ]
    },
    {
      "cell_type": "code",
      "execution_count": 3,
      "id": "german-pilot",
      "metadata": {
        "colab": {
          "base_uri": "https://localhost:8080/",
          "height": 424
        },
        "id": "german-pilot",
        "outputId": "84561824-ea24-49ff-a829-46b1a21a563e"
      },
      "outputs": [
        {
          "data": {
            "text/html": [
              "<div>\n",
              "<style scoped>\n",
              "    .dataframe tbody tr th:only-of-type {\n",
              "        vertical-align: middle;\n",
              "    }\n",
              "\n",
              "    .dataframe tbody tr th {\n",
              "        vertical-align: top;\n",
              "    }\n",
              "\n",
              "    .dataframe thead th {\n",
              "        text-align: right;\n",
              "    }\n",
              "</style>\n",
              "<table border=\"1\" class=\"dataframe\">\n",
              "  <thead>\n",
              "    <tr style=\"text-align: right;\">\n",
              "      <th></th>\n",
              "      <th>date</th>\n",
              "      <th>AUD_CLOSE</th>\n",
              "      <th>DKK_CLOSE</th>\n",
              "      <th>EUR_CLOSE</th>\n",
              "      <th>HKD_CLOSE</th>\n",
              "      <th>JPY_CLOSE</th>\n",
              "      <th>MXN_CLOSE</th>\n",
              "      <th>NZD_CLOSE</th>\n",
              "      <th>NOK_CLOSE</th>\n",
              "      <th>SEK_CLOSE</th>\n",
              "      <th>CHF_CLOSE</th>\n",
              "      <th>GBP_CLOSE</th>\n",
              "      <th>USD_CLOSE</th>\n",
              "    </tr>\n",
              "  </thead>\n",
              "  <tbody>\n",
              "    <tr>\n",
              "      <th>0</th>\n",
              "      <td>2007-05-01</td>\n",
              "      <td>0.9200</td>\n",
              "      <td>0.2000</td>\n",
              "      <td>1.5100</td>\n",
              "      <td>0.141970</td>\n",
              "      <td>0.009271</td>\n",
              "      <td>0.10000</td>\n",
              "      <td>0.8200</td>\n",
              "      <td>0.1860</td>\n",
              "      <td>0.1700</td>\n",
              "      <td>0.9100</td>\n",
              "      <td>2.2199</td>\n",
              "      <td>1.1105</td>\n",
              "    </tr>\n",
              "    <tr>\n",
              "      <th>1</th>\n",
              "      <td>2007-05-02</td>\n",
              "      <td>0.9100</td>\n",
              "      <td>0.2000</td>\n",
              "      <td>1.5100</td>\n",
              "      <td>0.141740</td>\n",
              "      <td>0.009232</td>\n",
              "      <td>0.10000</td>\n",
              "      <td>0.8200</td>\n",
              "      <td>0.1854</td>\n",
              "      <td>0.1700</td>\n",
              "      <td>0.9100</td>\n",
              "      <td>2.2055</td>\n",
              "      <td>1.1087</td>\n",
              "    </tr>\n",
              "    <tr>\n",
              "      <th>2</th>\n",
              "      <td>2007-05-03</td>\n",
              "      <td>0.9100</td>\n",
              "      <td>0.2000</td>\n",
              "      <td>1.5000</td>\n",
              "      <td>0.141496</td>\n",
              "      <td>0.009190</td>\n",
              "      <td>0.10000</td>\n",
              "      <td>0.8100</td>\n",
              "      <td>0.1847</td>\n",
              "      <td>0.1600</td>\n",
              "      <td>0.9100</td>\n",
              "      <td>2.1999</td>\n",
              "      <td>1.1066</td>\n",
              "    </tr>\n",
              "    <tr>\n",
              "      <th>3</th>\n",
              "      <td>2007-05-04</td>\n",
              "      <td>0.9100</td>\n",
              "      <td>0.2000</td>\n",
              "      <td>1.5100</td>\n",
              "      <td>0.141616</td>\n",
              "      <td>0.009218</td>\n",
              "      <td>0.10000</td>\n",
              "      <td>0.8100</td>\n",
              "      <td>0.1854</td>\n",
              "      <td>0.1600</td>\n",
              "      <td>0.9100</td>\n",
              "      <td>2.2075</td>\n",
              "      <td>1.1075</td>\n",
              "    </tr>\n",
              "    <tr>\n",
              "      <th>4</th>\n",
              "      <td>2007-05-05</td>\n",
              "      <td>0.9100</td>\n",
              "      <td>0.2000</td>\n",
              "      <td>1.5100</td>\n",
              "      <td>0.141616</td>\n",
              "      <td>0.009218</td>\n",
              "      <td>0.10000</td>\n",
              "      <td>0.8100</td>\n",
              "      <td>0.1854</td>\n",
              "      <td>0.1600</td>\n",
              "      <td>0.9100</td>\n",
              "      <td>2.2075</td>\n",
              "      <td>1.1075</td>\n",
              "    </tr>\n",
              "    <tr>\n",
              "      <th>...</th>\n",
              "      <td>...</td>\n",
              "      <td>...</td>\n",
              "      <td>...</td>\n",
              "      <td>...</td>\n",
              "      <td>...</td>\n",
              "      <td>...</td>\n",
              "      <td>...</td>\n",
              "      <td>...</td>\n",
              "      <td>...</td>\n",
              "      <td>...</td>\n",
              "      <td>...</td>\n",
              "      <td>...</td>\n",
              "      <td>...</td>\n",
              "    </tr>\n",
              "    <tr>\n",
              "      <th>3646</th>\n",
              "      <td>2017-04-24</td>\n",
              "      <td>1.0218</td>\n",
              "      <td>0.1974</td>\n",
              "      <td>1.4684</td>\n",
              "      <td>0.173684</td>\n",
              "      <td>0.012310</td>\n",
              "      <td>0.07215</td>\n",
              "      <td>0.9477</td>\n",
              "      <td>0.1579</td>\n",
              "      <td>0.1525</td>\n",
              "      <td>1.3568</td>\n",
              "      <td>1.7280</td>\n",
              "      <td>1.3511</td>\n",
              "    </tr>\n",
              "    <tr>\n",
              "      <th>3647</th>\n",
              "      <td>2017-04-25</td>\n",
              "      <td>1.0224</td>\n",
              "      <td>0.1994</td>\n",
              "      <td>1.4837</td>\n",
              "      <td>0.174374</td>\n",
              "      <td>0.012210</td>\n",
              "      <td>0.07183</td>\n",
              "      <td>0.9426</td>\n",
              "      <td>0.1586</td>\n",
              "      <td>0.1548</td>\n",
              "      <td>1.3661</td>\n",
              "      <td>1.7407</td>\n",
              "      <td>1.3565</td>\n",
              "    </tr>\n",
              "    <tr>\n",
              "      <th>3648</th>\n",
              "      <td>2017-04-26</td>\n",
              "      <td>1.0176</td>\n",
              "      <td>0.1995</td>\n",
              "      <td>1.4847</td>\n",
              "      <td>0.174965</td>\n",
              "      <td>0.012260</td>\n",
              "      <td>0.07098</td>\n",
              "      <td>0.9382</td>\n",
              "      <td>0.1585</td>\n",
              "      <td>0.1554</td>\n",
              "      <td>1.3707</td>\n",
              "      <td>1.7493</td>\n",
              "      <td>1.3612</td>\n",
              "    </tr>\n",
              "    <tr>\n",
              "      <th>3649</th>\n",
              "      <td>2017-04-27</td>\n",
              "      <td>1.0176</td>\n",
              "      <td>0.1992</td>\n",
              "      <td>1.4815</td>\n",
              "      <td>0.175103</td>\n",
              "      <td>0.012250</td>\n",
              "      <td>0.07151</td>\n",
              "      <td>0.9369</td>\n",
              "      <td>0.1590</td>\n",
              "      <td>0.1543</td>\n",
              "      <td>1.3704</td>\n",
              "      <td>1.7584</td>\n",
              "      <td>1.3624</td>\n",
              "    </tr>\n",
              "    <tr>\n",
              "      <th>3650</th>\n",
              "      <td>2017-04-28</td>\n",
              "      <td>1.0222</td>\n",
              "      <td>0.1999</td>\n",
              "      <td>1.4870</td>\n",
              "      <td>0.175485</td>\n",
              "      <td>0.012250</td>\n",
              "      <td>0.07253</td>\n",
              "      <td>0.9373</td>\n",
              "      <td>0.1590</td>\n",
              "      <td>0.1541</td>\n",
              "      <td>1.3719</td>\n",
              "      <td>1.7679</td>\n",
              "      <td>1.3650</td>\n",
              "    </tr>\n",
              "  </tbody>\n",
              "</table>\n",
              "<p>3651 rows × 13 columns</p>\n",
              "</div>"
            ],
            "text/plain": [
              "           date  AUD_CLOSE  DKK_CLOSE  EUR_CLOSE  HKD_CLOSE  JPY_CLOSE  \\\n",
              "0    2007-05-01     0.9200     0.2000     1.5100   0.141970   0.009271   \n",
              "1    2007-05-02     0.9100     0.2000     1.5100   0.141740   0.009232   \n",
              "2    2007-05-03     0.9100     0.2000     1.5000   0.141496   0.009190   \n",
              "3    2007-05-04     0.9100     0.2000     1.5100   0.141616   0.009218   \n",
              "4    2007-05-05     0.9100     0.2000     1.5100   0.141616   0.009218   \n",
              "...         ...        ...        ...        ...        ...        ...   \n",
              "3646 2017-04-24     1.0218     0.1974     1.4684   0.173684   0.012310   \n",
              "3647 2017-04-25     1.0224     0.1994     1.4837   0.174374   0.012210   \n",
              "3648 2017-04-26     1.0176     0.1995     1.4847   0.174965   0.012260   \n",
              "3649 2017-04-27     1.0176     0.1992     1.4815   0.175103   0.012250   \n",
              "3650 2017-04-28     1.0222     0.1999     1.4870   0.175485   0.012250   \n",
              "\n",
              "      MXN_CLOSE  NZD_CLOSE  NOK_CLOSE  SEK_CLOSE  CHF_CLOSE  GBP_CLOSE  \\\n",
              "0       0.10000     0.8200     0.1860     0.1700     0.9100     2.2199   \n",
              "1       0.10000     0.8200     0.1854     0.1700     0.9100     2.2055   \n",
              "2       0.10000     0.8100     0.1847     0.1600     0.9100     2.1999   \n",
              "3       0.10000     0.8100     0.1854     0.1600     0.9100     2.2075   \n",
              "4       0.10000     0.8100     0.1854     0.1600     0.9100     2.2075   \n",
              "...         ...        ...        ...        ...        ...        ...   \n",
              "3646    0.07215     0.9477     0.1579     0.1525     1.3568     1.7280   \n",
              "3647    0.07183     0.9426     0.1586     0.1548     1.3661     1.7407   \n",
              "3648    0.07098     0.9382     0.1585     0.1554     1.3707     1.7493   \n",
              "3649    0.07151     0.9369     0.1590     0.1543     1.3704     1.7584   \n",
              "3650    0.07253     0.9373     0.1590     0.1541     1.3719     1.7679   \n",
              "\n",
              "      USD_CLOSE  \n",
              "0        1.1105  \n",
              "1        1.1087  \n",
              "2        1.1066  \n",
              "3        1.1075  \n",
              "4        1.1075  \n",
              "...         ...  \n",
              "3646     1.3511  \n",
              "3647     1.3565  \n",
              "3648     1.3612  \n",
              "3649     1.3624  \n",
              "3650     1.3650  \n",
              "\n",
              "[3651 rows x 13 columns]"
            ]
          },
          "execution_count": 3,
          "metadata": {},
          "output_type": "execute_result"
        }
      ],
      "source": [
        "data_filename = \"/Volumes/GoogleDrive/My Drive/Forecasting/bootcamp_datasets/boc_exchange/dataset.csv\"\n",
        "data_df = pd.read_csv(data_filename, index_col=0)\n",
        "data_df.index = pd.to_datetime(data_df.index)\n",
        "data_df = data_df.reset_index().rename({'index':'date'}, axis=1)\n",
        "data_df"
      ]
    },
    {
      "cell_type": "markdown",
      "id": "lined-nicholas",
      "metadata": {
        "id": "lined-nicholas"
      },
      "source": [
        "### Split data according to use case\n",
        "\n",
        "For simplicity, this notebook uses a conventional training and testing split over the dataset. Other notebooks will give examples of rolling cross validation using multiple validation periods given by a set of cutoff dates. \n",
        "\n",
        "The purpose of this notebook is to explore a simpler problem formulation using multiple models. The experiments and analysis can be easily adapted for rolling cross validation."
      ]
    },
    {
      "cell_type": "code",
      "execution_count": 4,
      "id": "raised-uniform",
      "metadata": {
        "id": "raised-uniform"
      },
      "outputs": [],
      "source": [
        "lag_time = 60\n",
        "lead_time = 30\n",
        "\n",
        "train_size = 0.8\n",
        "\n",
        "train_df = data_df.iloc[:int(len(data_df)*train_size)]\n",
        "test_df = data_df.iloc[int(len(data_df)*train_size):]"
      ]
    },
    {
      "cell_type": "markdown",
      "id": "c2801b53",
      "metadata": {},
      "source": [
        "To ensure that we have enough data for testing, we need to withhold at least `lag_time + lead_time` observations from the dataset. Assuming we want to test a fitted model on all available examples in the test set, the number of testing examples can be computed as follows."
      ]
    },
    {
      "cell_type": "code",
      "execution_count": 5,
      "id": "38ddad46",
      "metadata": {},
      "outputs": [
        {
          "name": "stdout",
          "output_type": "stream",
          "text": [
            "Number of test examples: 641\n"
          ]
        }
      ],
      "source": [
        "n_test_cases = len(test_df) - lag_time - lead_time\n",
        "print(f\"Number of test examples: {n_test_cases}\")"
      ]
    },
    {
      "cell_type": "markdown",
      "id": "8195716a",
      "metadata": {},
      "source": [
        "### Iterating over test examples\n",
        "\n",
        "To help with iterating over valid pairs of input and target data, we define a PyTorch-like dataset class. In this notebook, we'll use this primarily for iterating over test examples, since both Prophet and NeuralProphet impose their own, special formats for passing in training data."
      ]
    },
    {
      "cell_type": "code",
      "execution_count": 6,
      "id": "459edc55",
      "metadata": {},
      "outputs": [],
      "source": [
        "class ForecastingDataset:\n",
        "\n",
        "    def __init__(self, data_df, lag_time, lead_time, feature_columns):\n",
        "        self.n_examples = len(data_df) - lag_time - lead_time\n",
        "        assert self.n_examples >= 0, \"Dataset must contain at least one example.\"\n",
        "        assert \"date\" in data_df.columns or \"ds\" in data_df.columns, \"Source DataFrame must contain a date/ds column.\"\n",
        "\n",
        "        self.df = data_df[feature_columns]\n",
        "        if 'date' in data_df.columns:\n",
        "            self.dates = data_df.date\n",
        "        elif 'ds' in data_df.columns:\n",
        "            self.dates = data_df.ds\n",
        "        self.lag_time = lag_time\n",
        "        self.lead_time = lead_time\n",
        "\n",
        "    def __len__(self):\n",
        "        return self.n_examples\n",
        "\n",
        "    def __getitem__(self, idx):\n",
        "        input = self.df.iloc[idx:idx+lag_time]\n",
        "        output = self.df.iloc[idx+lag_time:idx+lag_time+lead_time]\n",
        "        input_dates = self.dates[idx:idx+lag_time]\n",
        "        output_dates = self.dates[idx+lag_time:idx+lag_time+lead_time]\n",
        "        return input, output, input_dates, output_dates"
      ]
    },
    {
      "cell_type": "markdown",
      "id": "b88e3554",
      "metadata": {},
      "source": [
        "Next, we instantiate an indexable `test_dataset`. "
      ]
    },
    {
      "cell_type": "code",
      "execution_count": 7,
      "id": "a708bb89",
      "metadata": {},
      "outputs": [],
      "source": [
        "feature_columns = [col for col in test_df if col.endswith(\"_CLOSE\")]\n",
        "test_dataset = ForecastingDataset(test_df, lag_time, lead_time, feature_columns)"
      ]
    },
    {
      "cell_type": "markdown",
      "id": "latin-atlas",
      "metadata": {
        "id": "latin-atlas"
      },
      "source": [
        "# Prophet\n",
        "\n",
        "Univariate forecasting that supports additional *future* regressors. Prophet does not support the inclusion of *lagged regressors*, i.e. it does not support the use of historical values of multiple series to predict a single target series. We include it as a baseline because it is popular, lightweight, interpretable, and performs very well in some domains. \n",
        "\n",
        "Prophet is based on a Generalized Additive Model (GAM):\n",
        "\n",
        "$ y(t) = g(t) + s(t) + h(t) + \\epsilon_t$\n",
        "\n",
        "where $y(t)$ is the target series, $g(t)$ is the trend function, $s(t)$ is the seasonality or periodic function, $h(t)$ is a function reflecting holidays or other irregular events, and $\\epsilon_t$ is an error term that is assumed to be normally distributed.\n",
        "\n",
        "Despite being formulated as an additive model, multiplicative interaction between seasonality and trend components is supported (using a log transform). In the implementation, this is easily configurable using a constructor paramter. See the [documentation](https://facebook.github.io/prophet/docs/multiplicative_seasonality.html) for more details.\n",
        "\n",
        "#### Data Preparation\n",
        "\n",
        "Prophet, like most forecasting packages, imposes its own, specific format for input data. It expects inputs in the form of a Pandas DataFrame with two columns, `ds` and `y`, which correspond to Pandas-formatted timestamps and the target time series, respectively.\n",
        "\n",
        "In this example, we create a Prophet DataFrame by selecting the columns `date` and `USD_CLOSE` from the Bank of Canada exchange rate dataset. We then rename those columns to `ds` and `y`, respectively. \n",
        "\n",
        "Note that the `ds` column is already correctly formatted using the Pandas datetime format, since we converted it immediately after loading the data. When reading CSVs, always be sure to check that datestamps are properly formatted."
      ]
    },
    {
      "cell_type": "code",
      "execution_count": 8,
      "id": "generous-glasgow",
      "metadata": {
        "colab": {
          "base_uri": "https://localhost:8080/",
          "height": 424
        },
        "id": "generous-glasgow",
        "outputId": "90affa3b-a381-42a5-e6db-72f5160a3640"
      },
      "outputs": [
        {
          "data": {
            "text/html": [
              "<div>\n",
              "<style scoped>\n",
              "    .dataframe tbody tr th:only-of-type {\n",
              "        vertical-align: middle;\n",
              "    }\n",
              "\n",
              "    .dataframe tbody tr th {\n",
              "        vertical-align: top;\n",
              "    }\n",
              "\n",
              "    .dataframe thead th {\n",
              "        text-align: right;\n",
              "    }\n",
              "</style>\n",
              "<table border=\"1\" class=\"dataframe\">\n",
              "  <thead>\n",
              "    <tr style=\"text-align: right;\">\n",
              "      <th></th>\n",
              "      <th>ds</th>\n",
              "      <th>y</th>\n",
              "    </tr>\n",
              "  </thead>\n",
              "  <tbody>\n",
              "    <tr>\n",
              "      <th>0</th>\n",
              "      <td>2007-05-01</td>\n",
              "      <td>1.1105</td>\n",
              "    </tr>\n",
              "    <tr>\n",
              "      <th>1</th>\n",
              "      <td>2007-05-02</td>\n",
              "      <td>1.1087</td>\n",
              "    </tr>\n",
              "    <tr>\n",
              "      <th>2</th>\n",
              "      <td>2007-05-03</td>\n",
              "      <td>1.1066</td>\n",
              "    </tr>\n",
              "    <tr>\n",
              "      <th>3</th>\n",
              "      <td>2007-05-04</td>\n",
              "      <td>1.1075</td>\n",
              "    </tr>\n",
              "    <tr>\n",
              "      <th>4</th>\n",
              "      <td>2007-05-05</td>\n",
              "      <td>1.1075</td>\n",
              "    </tr>\n",
              "    <tr>\n",
              "      <th>...</th>\n",
              "      <td>...</td>\n",
              "      <td>...</td>\n",
              "    </tr>\n",
              "    <tr>\n",
              "      <th>2915</th>\n",
              "      <td>2015-04-24</td>\n",
              "      <td>1.2170</td>\n",
              "    </tr>\n",
              "    <tr>\n",
              "      <th>2916</th>\n",
              "      <td>2015-04-25</td>\n",
              "      <td>1.2170</td>\n",
              "    </tr>\n",
              "    <tr>\n",
              "      <th>2917</th>\n",
              "      <td>2015-04-26</td>\n",
              "      <td>1.2170</td>\n",
              "    </tr>\n",
              "    <tr>\n",
              "      <th>2918</th>\n",
              "      <td>2015-04-27</td>\n",
              "      <td>1.2101</td>\n",
              "    </tr>\n",
              "    <tr>\n",
              "      <th>2919</th>\n",
              "      <td>2015-04-28</td>\n",
              "      <td>1.2030</td>\n",
              "    </tr>\n",
              "  </tbody>\n",
              "</table>\n",
              "<p>2920 rows × 2 columns</p>\n",
              "</div>"
            ],
            "text/plain": [
              "             ds       y\n",
              "0    2007-05-01  1.1105\n",
              "1    2007-05-02  1.1087\n",
              "2    2007-05-03  1.1066\n",
              "3    2007-05-04  1.1075\n",
              "4    2007-05-05  1.1075\n",
              "...         ...     ...\n",
              "2915 2015-04-24  1.2170\n",
              "2916 2015-04-25  1.2170\n",
              "2917 2015-04-26  1.2170\n",
              "2918 2015-04-27  1.2101\n",
              "2919 2015-04-28  1.2030\n",
              "\n",
              "[2920 rows x 2 columns]"
            ]
          },
          "execution_count": 8,
          "metadata": {},
          "output_type": "execute_result"
        }
      ],
      "source": [
        "prophet_model_df = train_df[['date', 'USD_CLOSE']]\n",
        "prophet_model_df = train_df.rename({'date':'ds', 'USD_CLOSE':'y'}, axis=1)\n",
        "prophet_model_df = prophet_model_df[['ds', 'y']]\n",
        "prophet_model_df"
      ]
    },
    {
      "cell_type": "markdown",
      "id": "ideal-injury",
      "metadata": {
        "id": "ideal-injury"
      },
      "source": [
        "### Model Initialization and Fitting\n",
        "\n",
        "For our baseline model, we fit Prophet using its default configuration."
      ]
    },
    {
      "cell_type": "code",
      "execution_count": null,
      "id": "blond-stamp",
      "metadata": {
        "colab": {
          "base_uri": "https://localhost:8080/"
        },
        "id": "blond-stamp",
        "outputId": "ac3aaa63-501a-45b4-b715-77e569bd5c6f"
      },
      "outputs": [],
      "source": [
        "model = Prophet()\n",
        "model = model.fit(prophet_model_df)"
      ]
    },
    {
      "cell_type": "markdown",
      "id": "facial-tracker",
      "metadata": {
        "id": "facial-tracker"
      },
      "source": [
        "### Produce Forecasts\n",
        "\n",
        "To produce a forecast using a fitted Prophet model, we need to pass it a dataframe with the desired timestamps in a column named `ds`. In the example below, we use the fitted model object to produce a dataframe `future` with dates that extend `lag_time` days beyond the training dates. Passing `future` to the fitted model's `predict` function will return a dataframe populated with a detailed forecast, including model component values and confidence ranges.\n",
        "\n",
        "Notice here that we are asking Prophet to produce a single forecast for the entire test period. We are doing this because Prophet does not support inference using fixed-sized inputs in the same way that every other technique considered in our bootcamp does. "
      ]
    },
    {
      "cell_type": "code",
      "execution_count": 10,
      "id": "twenty-ghana",
      "metadata": {
        "id": "twenty-ghana"
      },
      "outputs": [],
      "source": [
        "future = model.make_future_dataframe(periods=len(test_df))\n",
        "forecast = model.predict(future)"
      ]
    },
    {
      "cell_type": "code",
      "execution_count": 11,
      "id": "identical-affair",
      "metadata": {
        "colab": {
          "base_uri": "https://localhost:8080/",
          "height": 270
        },
        "id": "identical-affair",
        "outputId": "49d90418-c170-47d3-c353-5ad5c5fdd4f2"
      },
      "outputs": [
        {
          "data": {
            "text/html": [
              "<div>\n",
              "<style scoped>\n",
              "    .dataframe tbody tr th:only-of-type {\n",
              "        vertical-align: middle;\n",
              "    }\n",
              "\n",
              "    .dataframe tbody tr th {\n",
              "        vertical-align: top;\n",
              "    }\n",
              "\n",
              "    .dataframe thead th {\n",
              "        text-align: right;\n",
              "    }\n",
              "</style>\n",
              "<table border=\"1\" class=\"dataframe\">\n",
              "  <thead>\n",
              "    <tr style=\"text-align: right;\">\n",
              "      <th></th>\n",
              "      <th>ds</th>\n",
              "      <th>trend</th>\n",
              "      <th>yhat_lower</th>\n",
              "      <th>yhat_upper</th>\n",
              "      <th>trend_lower</th>\n",
              "      <th>trend_upper</th>\n",
              "      <th>additive_terms</th>\n",
              "      <th>additive_terms_lower</th>\n",
              "      <th>additive_terms_upper</th>\n",
              "      <th>weekly</th>\n",
              "      <th>weekly_lower</th>\n",
              "      <th>weekly_upper</th>\n",
              "      <th>yearly</th>\n",
              "      <th>yearly_lower</th>\n",
              "      <th>yearly_upper</th>\n",
              "      <th>multiplicative_terms</th>\n",
              "      <th>multiplicative_terms_lower</th>\n",
              "      <th>multiplicative_terms_upper</th>\n",
              "      <th>yhat</th>\n",
              "    </tr>\n",
              "  </thead>\n",
              "  <tbody>\n",
              "    <tr>\n",
              "      <th>3646</th>\n",
              "      <td>2017-04-24</td>\n",
              "      <td>1.422376</td>\n",
              "      <td>0.501572</td>\n",
              "      <td>2.467975</td>\n",
              "      <td>0.500977</td>\n",
              "      <td>2.467357</td>\n",
              "      <td>0.001785</td>\n",
              "      <td>0.001785</td>\n",
              "      <td>0.001785</td>\n",
              "      <td>7.251650e-07</td>\n",
              "      <td>7.251650e-07</td>\n",
              "      <td>7.251650e-07</td>\n",
              "      <td>0.001784</td>\n",
              "      <td>0.001784</td>\n",
              "      <td>0.001784</td>\n",
              "      <td>0.0</td>\n",
              "      <td>0.0</td>\n",
              "      <td>0.0</td>\n",
              "      <td>1.424160</td>\n",
              "    </tr>\n",
              "    <tr>\n",
              "      <th>3647</th>\n",
              "      <td>2017-04-25</td>\n",
              "      <td>1.422672</td>\n",
              "      <td>0.505169</td>\n",
              "      <td>2.465158</td>\n",
              "      <td>0.499253</td>\n",
              "      <td>2.468873</td>\n",
              "      <td>0.000846</td>\n",
              "      <td>0.000846</td>\n",
              "      <td>0.000846</td>\n",
              "      <td>-7.142097e-05</td>\n",
              "      <td>-7.142097e-05</td>\n",
              "      <td>-7.142097e-05</td>\n",
              "      <td>0.000918</td>\n",
              "      <td>0.000918</td>\n",
              "      <td>0.000918</td>\n",
              "      <td>0.0</td>\n",
              "      <td>0.0</td>\n",
              "      <td>0.0</td>\n",
              "      <td>1.423519</td>\n",
              "    </tr>\n",
              "    <tr>\n",
              "      <th>3648</th>\n",
              "      <td>2017-04-26</td>\n",
              "      <td>1.422969</td>\n",
              "      <td>0.510251</td>\n",
              "      <td>2.463996</td>\n",
              "      <td>0.497529</td>\n",
              "      <td>2.470389</td>\n",
              "      <td>-0.000088</td>\n",
              "      <td>-0.000088</td>\n",
              "      <td>-0.000088</td>\n",
              "      <td>-1.817842e-04</td>\n",
              "      <td>-1.817842e-04</td>\n",
              "      <td>-1.817842e-04</td>\n",
              "      <td>0.000094</td>\n",
              "      <td>0.000094</td>\n",
              "      <td>0.000094</td>\n",
              "      <td>0.0</td>\n",
              "      <td>0.0</td>\n",
              "      <td>0.0</td>\n",
              "      <td>1.422881</td>\n",
              "    </tr>\n",
              "    <tr>\n",
              "      <th>3649</th>\n",
              "      <td>2017-04-27</td>\n",
              "      <td>1.423265</td>\n",
              "      <td>0.505531</td>\n",
              "      <td>2.469141</td>\n",
              "      <td>0.495830</td>\n",
              "      <td>2.471905</td>\n",
              "      <td>-0.000903</td>\n",
              "      <td>-0.000903</td>\n",
              "      <td>-0.000903</td>\n",
              "      <td>-2.216144e-04</td>\n",
              "      <td>-2.216144e-04</td>\n",
              "      <td>-2.216144e-04</td>\n",
              "      <td>-0.000681</td>\n",
              "      <td>-0.000681</td>\n",
              "      <td>-0.000681</td>\n",
              "      <td>0.0</td>\n",
              "      <td>0.0</td>\n",
              "      <td>0.0</td>\n",
              "      <td>1.422362</td>\n",
              "    </tr>\n",
              "    <tr>\n",
              "      <th>3650</th>\n",
              "      <td>2017-04-28</td>\n",
              "      <td>1.423561</td>\n",
              "      <td>0.498018</td>\n",
              "      <td>2.486106</td>\n",
              "      <td>0.494434</td>\n",
              "      <td>2.473421</td>\n",
              "      <td>-0.001214</td>\n",
              "      <td>-0.001214</td>\n",
              "      <td>-0.001214</td>\n",
              "      <td>1.882022e-04</td>\n",
              "      <td>1.882022e-04</td>\n",
              "      <td>1.882022e-04</td>\n",
              "      <td>-0.001402</td>\n",
              "      <td>-0.001402</td>\n",
              "      <td>-0.001402</td>\n",
              "      <td>0.0</td>\n",
              "      <td>0.0</td>\n",
              "      <td>0.0</td>\n",
              "      <td>1.422347</td>\n",
              "    </tr>\n",
              "  </tbody>\n",
              "</table>\n",
              "</div>"
            ],
            "text/plain": [
              "             ds     trend  yhat_lower  yhat_upper  trend_lower  trend_upper  \\\n",
              "3646 2017-04-24  1.422376    0.501572    2.467975     0.500977     2.467357   \n",
              "3647 2017-04-25  1.422672    0.505169    2.465158     0.499253     2.468873   \n",
              "3648 2017-04-26  1.422969    0.510251    2.463996     0.497529     2.470389   \n",
              "3649 2017-04-27  1.423265    0.505531    2.469141     0.495830     2.471905   \n",
              "3650 2017-04-28  1.423561    0.498018    2.486106     0.494434     2.473421   \n",
              "\n",
              "      additive_terms  additive_terms_lower  additive_terms_upper  \\\n",
              "3646        0.001785              0.001785              0.001785   \n",
              "3647        0.000846              0.000846              0.000846   \n",
              "3648       -0.000088             -0.000088             -0.000088   \n",
              "3649       -0.000903             -0.000903             -0.000903   \n",
              "3650       -0.001214             -0.001214             -0.001214   \n",
              "\n",
              "            weekly  weekly_lower  weekly_upper    yearly  yearly_lower  \\\n",
              "3646  7.251650e-07  7.251650e-07  7.251650e-07  0.001784      0.001784   \n",
              "3647 -7.142097e-05 -7.142097e-05 -7.142097e-05  0.000918      0.000918   \n",
              "3648 -1.817842e-04 -1.817842e-04 -1.817842e-04  0.000094      0.000094   \n",
              "3649 -2.216144e-04 -2.216144e-04 -2.216144e-04 -0.000681     -0.000681   \n",
              "3650  1.882022e-04  1.882022e-04  1.882022e-04 -0.001402     -0.001402   \n",
              "\n",
              "      yearly_upper  multiplicative_terms  multiplicative_terms_lower  \\\n",
              "3646      0.001784                   0.0                         0.0   \n",
              "3647      0.000918                   0.0                         0.0   \n",
              "3648      0.000094                   0.0                         0.0   \n",
              "3649     -0.000681                   0.0                         0.0   \n",
              "3650     -0.001402                   0.0                         0.0   \n",
              "\n",
              "      multiplicative_terms_upper      yhat  \n",
              "3646                         0.0  1.424160  \n",
              "3647                         0.0  1.423519  \n",
              "3648                         0.0  1.422881  \n",
              "3649                         0.0  1.422362  \n",
              "3650                         0.0  1.422347  "
            ]
          },
          "execution_count": 11,
          "metadata": {},
          "output_type": "execute_result"
        }
      ],
      "source": [
        "forecast.tail(5)"
      ]
    },
    {
      "cell_type": "markdown",
      "id": "racial-section",
      "metadata": {
        "id": "racial-section"
      },
      "source": [
        "### Plotting Prophet Forecasts\n",
        "\n",
        "The following code visualizes the application of the fitted Prophet model to both in-sample (training) and out-of-sample (testing) data. Visualization and evaluation of forecasting models using out-of-sample data is crucial for estimating future performance."
      ]
    },
    {
      "cell_type": "code",
      "execution_count": 12,
      "id": "undefined-drove",
      "metadata": {
        "colab": {
          "base_uri": "https://localhost:8080/",
          "height": 320
        },
        "id": "undefined-drove",
        "outputId": "3532204b-1528-4959-dd55-cee4cdf913b6"
      },
      "outputs": [
        {
          "data": {
            "image/png": "[encoded data removed]",
            "text/plain": [
              "<Figure size 1080x360 with 1 Axes>"
            ]
          },
          "metadata": {
            "needs_background": "light"
          },
          "output_type": "display_data"
        }
      ],
      "source": [
        "fig, ax = plt.subplots(figsize=(15, 5))\n",
        "\n",
        "ax.scatter(prophet_model_df.ds, prophet_model_df['y'], color='black', s=5, label='Train Samples')\n",
        "ax.scatter(test_df.date, test_df['USD_CLOSE'], color='purple', s=5, label='Test Samples')\n",
        "\n",
        "ax.plot(forecast.ds.iloc[:-len(test_df)], \n",
        "        forecast.yhat.iloc[:-len(test_df)], color='blue', label='In-Sample Forecast')\n",
        "\n",
        "ax.fill_between(forecast.ds.iloc[:-len(test_df)], \n",
        "    forecast.yhat_lower.iloc[:-len(test_df)], \n",
        "    forecast.yhat_upper.iloc[:-len(test_df)],\n",
        "    color='blue', label='In-Sample Forecast Range', alpha=0.2)\n",
        "\n",
        "ax.plot(forecast.ds.iloc[-len(test_df):], forecast.yhat.iloc[-len(test_df):], \n",
        "        color='red', label='Out-of-Sample Forecast')\n",
        "\n",
        "ax.fill_between(forecast.ds.iloc[-len(test_df):], \n",
        "    forecast.yhat_lower.iloc[-len(test_df):], \n",
        "    forecast.yhat_upper.iloc[-len(test_df):],\n",
        "    color='red', label='Out-of-Sample Forecast Range', alpha=0.2)\n",
        "\n",
        "ax.legend(loc='upper left')\n",
        "ax.grid(axis='y')"
      ]
    },
    {
      "cell_type": "markdown",
      "id": "8963e899",
      "metadata": {},
      "source": [
        "### Collecting individual forecasts\n",
        "\n",
        "Our overall goal in (standard) evaluation is to estimate the generalizability of trained models to the test set. In order to do this with Prophet, we need to re-interpret its single, long forecast as a series of shorter ones. \n",
        "\n",
        "We split the single forecast into a collection of forecasts consisting of `lead_time` predictions each."
      ]
    },
    {
      "cell_type": "code",
      "execution_count": 13,
      "id": "b3e47c88",
      "metadata": {},
      "outputs": [
        {
          "data": {
            "text/plain": [
              "Text(0.5, 1.0, 'Forecasts at all lead times (1 to 30 samples)')"
            ]
          },
          "execution_count": 13,
          "metadata": {},
          "output_type": "execute_result"
        },
        {
          "data": {
            "image/png": "[encoded data removed]",
            "text/plain": [
              "<Figure size 576x216 with 1 Axes>"
            ]
          },
          "metadata": {
            "needs_background": "light"
          },
          "output_type": "display_data"
        }
      ],
      "source": [
        "# We can use our ForecastingDataset class to help with formatting Prophet's output.\n",
        "forecast_eval_dataset = ForecastingDataset(forecast.iloc[-len(test_df):], lag_time, lead_time, ['yhat'])\n",
        "\n",
        "fig, ax = plt.subplots(figsize=(8,3))\n",
        "\n",
        "for i in range(len(forecast_eval_dataset)):\n",
        "    x, y, x_d, y_d = forecast_eval_dataset[i]\n",
        "    x_gt, y_gt, x_gt_d, y_gt_d = test_dataset[i]\n",
        "    if i == 0:\n",
        "        ax.plot(y_d, y, alpha=1.0, color='red', label='forecast')\n",
        "        ax.plot(y_gt_d, y_gt['USD_CLOSE'], alpha=1.0, color='blue', label='ground truth')\n",
        "    else:\n",
        "        ax.plot(y_d, y, alpha=0.1, color='red')\n",
        "        ax.plot(y_gt_d, y_gt['USD_CLOSE'], alpha=0.1, color='blue')\n",
        "plt.legend()\n",
        "plt.title(f\"Forecasts at all lead times (1 to {lead_time} samples)\")"
      ]
    },
    {
      "cell_type": "markdown",
      "id": "announced-debate",
      "metadata": {
        "id": "announced-debate"
      },
      "source": [
        "### Evaluation Metrics\n",
        "\n",
        "In order to objectively compare the performance of this and other models on out-of-sample forecasting performance, we will need to collect output in a consistent format and apply a suite of standard evaluation metrics:\n",
        "\n",
        "- Mean Squared Error (MSE)\n",
        "- Root Mean Squared Error (RMSE)\n",
        "- Mean Absolute Error (MAE)\n",
        "- Mean Absolute Percentage Error (MAPE)\n",
        "\n",
        "See the article [Time Series Forecast Error Metrics You Should Know](https://towardsdatascience.com/time-series-forecast-error-metrics-you-should-know-cc88b8c67f27) for an overview of these and other popular forecasting error metrics. \n"
      ]
    },
    {
      "cell_type": "code",
      "execution_count": 14,
      "id": "ambient-drink",
      "metadata": {
        "id": "ambient-drink"
      },
      "outputs": [],
      "source": [
        "from sklearn.metrics import mean_squared_error, mean_absolute_error, mean_absolute_percentage_error\n",
        "\n",
        "metrics = {\n",
        "    'mse': mean_squared_error,\n",
        "    'rmse': lambda y_true, y_pred: np.sqrt(mean_squared_error(y_true, y_pred)),\n",
        "    'mae': mean_absolute_error,\n",
        "    'mape': mean_absolute_percentage_error\n",
        "}"
      ]
    },
    {
      "cell_type": "markdown",
      "id": "fa70ec31",
      "metadata": {},
      "source": [
        "With the help of the ForecastingDataset class defined earlier, iterate over each forecast and ground truth pair, and compute and collect multiple evaluation metrics as defined in the previous cell."
      ]
    },
    {
      "cell_type": "code",
      "execution_count": 15,
      "id": "1c0897ef",
      "metadata": {},
      "outputs": [],
      "source": [
        "def compute_error_metrics(ground_truth_dataset, forecast_dataset):\n",
        "        \n",
        "    errors = {metric_name:[] for metric_name in metrics.keys()}\n",
        "\n",
        "    for i in range(len(forecast_dataset)):\n",
        "        x, y, x_d, y_d = forecast_dataset[i]\n",
        "        x_gt, y_gt, x_gt_d, y_gt_d = ground_truth_dataset[i]\n",
        "        for metric_name, metric_fn in metrics.items(): \n",
        "            errors[metric_name].append(metric_fn(y_true=y_gt['USD_CLOSE'], y_pred=y))\n",
        "    \n",
        "    return errors\n",
        "\n",
        "error_metrics = compute_error_metrics(test_dataset, forecast_eval_dataset)"
      ]
    },
    {
      "cell_type": "code",
      "execution_count": 16,
      "id": "6216e15a",
      "metadata": {},
      "outputs": [
        {
          "data": {
            "text/plain": [
              "mse     0.004989\n",
              "rmse    0.062002\n",
              "mae     0.060038\n",
              "mape    0.045071\n",
              "Name: prophet_mean_metrics, dtype: float64"
            ]
          },
          "execution_count": 16,
          "metadata": {},
          "output_type": "execute_result"
        }
      ],
      "source": [
        "def compute_error_statistics(error_metrics_dict, exp_name):\n",
        "    return {\n",
        "        'mean': pd.DataFrame(error_metrics_dict).mean(axis=0).rename(f'{exp_name}_mean_metrics'),\n",
        "        'std': pd.DataFrame(error_metrics_dict).std(axis=0).rename(f'{exp_name}_std_metrics'),\n",
        "        'max': pd.DataFrame(error_metrics_dict).max(axis=0).rename(f'{exp_name}_max_metrics'),\n",
        "    }\n",
        "\n",
        "prophet_stats = compute_error_statistics(error_metrics, 'prophet')\n",
        "prophet_stats['mean']"
      ]
    },
    {
      "cell_type": "markdown",
      "id": "speaking-physiology",
      "metadata": {
        "id": "speaking-physiology"
      },
      "source": [
        "Let's now collect the mean evaluation metrics into a new DataFrame that we will use for comparative evalution against other models' forecasts."
      ]
    },
    {
      "cell_type": "code",
      "execution_count": 17,
      "id": "canadian-coating",
      "metadata": {
        "id": "canadian-coating"
      },
      "outputs": [
        {
          "data": {
            "text/html": [
              "<div>\n",
              "<style scoped>\n",
              "    .dataframe tbody tr th:only-of-type {\n",
              "        vertical-align: middle;\n",
              "    }\n",
              "\n",
              "    .dataframe tbody tr th {\n",
              "        vertical-align: top;\n",
              "    }\n",
              "\n",
              "    .dataframe thead th {\n",
              "        text-align: right;\n",
              "    }\n",
              "</style>\n",
              "<table border=\"1\" class=\"dataframe\">\n",
              "  <thead>\n",
              "    <tr style=\"text-align: right;\">\n",
              "      <th></th>\n",
              "      <th>mse</th>\n",
              "      <th>rmse</th>\n",
              "      <th>mae</th>\n",
              "      <th>mape</th>\n",
              "    </tr>\n",
              "  </thead>\n",
              "  <tbody>\n",
              "    <tr>\n",
              "      <th>prophet_mean_metrics</th>\n",
              "      <td>0.004989</td>\n",
              "      <td>0.062002</td>\n",
              "      <td>0.060038</td>\n",
              "      <td>0.045071</td>\n",
              "    </tr>\n",
              "  </tbody>\n",
              "</table>\n",
              "</div>"
            ],
            "text/plain": [
              "                           mse      rmse       mae      mape\n",
              "prophet_mean_metrics  0.004989  0.062002  0.060038  0.045071"
            ]
          },
          "execution_count": 17,
          "metadata": {},
          "output_type": "execute_result"
        }
      ],
      "source": [
        "results_df = pd.DataFrame(prophet_stats['mean']).T\n",
        "results_df"
      ]
    },
    {
      "cell_type": "markdown",
      "id": "interracial-karen",
      "metadata": {
        "id": "interracial-karen"
      },
      "source": [
        "# NeuralProphet\n",
        "\n",
        "Let's proceed to explore the [NeuralProphet](https://neuralprophet.com/html/index.html) model. Please review the following resources to learn more:\n",
        "\n",
        "- [Paper](https://arxiv.org/abs/2111.15397)\n",
        "- [Documentation](https://neuralprophet.com/html/contents.html)\n",
        "- [GitHub](https://github.com/ourownstory/neural_prophet)\n",
        "\n",
        "In the words of its developers, NeuralProphet is \"*based on neural networks, inspired by Facebook Prophet and AR-Net, built on PyTorch*\". A very important differentiating feature is that NeuralProphet conveniently supports *lagged regressors*. In the context of this running example, NeuralProphet supports the use of multiple other currencies' time series. With this expanded flexibility, however, the model is more complex, with a greater number of design choices and hyperparameters to consider. \n",
        "\n",
        "The official [documentation on lagged regressors (lagged covariates)](https://neuralprophet.com/html/lagged_covariates_energy_ercot.html) gives several examples for configuring NeuralProphet models to use lagged regressors, but commentary and suggestions on best practices are largely absent. \n",
        "\n",
        "In the following code, we will consider a small number of NeuralProphet model configurations applied to the same forecasting task from above. Importantly, we retain the same train/test (in-sample/out-of-sample) split, and we will apply the same evaluation metrics to NeuralProphet's forecasts. \n",
        "\n",
        "### Data Formatting\n",
        "\n",
        "NeuralProphet's data format is very similar to Prophet's. We prepare new DataFrames for training and evaluation."
      ]
    },
    {
      "cell_type": "code",
      "execution_count": 18,
      "id": "placed-cooper",
      "metadata": {
        "id": "placed-cooper"
      },
      "outputs": [],
      "source": [
        "np_train_df = train_df.reset_index().rename({'date':'ds', 'USD_CLOSE':'y'}, axis=1).drop('index', axis=1)\n",
        "np_test_df = test_df.reset_index().rename({'date':'ds','USD_CLOSE':'y'}, axis=1).drop('index', axis=1)"
      ]
    },
    {
      "cell_type": "markdown",
      "id": "b640f313",
      "metadata": {},
      "source": [
        "Of course the most important difference between the DataFrames prepared for Prophet and NeuralProphet is that, with NeuralProphet, we have the opportunity to include data about the non-target variables as lagged regressors."
      ]
    },
    {
      "cell_type": "code",
      "execution_count": 19,
      "id": "892025cf",
      "metadata": {},
      "outputs": [
        {
          "data": {
            "text/html": [
              "<div>\n",
              "<style scoped>\n",
              "    .dataframe tbody tr th:only-of-type {\n",
              "        vertical-align: middle;\n",
              "    }\n",
              "\n",
              "    .dataframe tbody tr th {\n",
              "        vertical-align: top;\n",
              "    }\n",
              "\n",
              "    .dataframe thead th {\n",
              "        text-align: right;\n",
              "    }\n",
              "</style>\n",
              "<table border=\"1\" class=\"dataframe\">\n",
              "  <thead>\n",
              "    <tr style=\"text-align: right;\">\n",
              "      <th></th>\n",
              "      <th>ds</th>\n",
              "      <th>AUD_CLOSE</th>\n",
              "      <th>DKK_CLOSE</th>\n",
              "      <th>EUR_CLOSE</th>\n",
              "      <th>HKD_CLOSE</th>\n",
              "      <th>JPY_CLOSE</th>\n",
              "      <th>MXN_CLOSE</th>\n",
              "      <th>NZD_CLOSE</th>\n",
              "      <th>NOK_CLOSE</th>\n",
              "      <th>SEK_CLOSE</th>\n",
              "      <th>CHF_CLOSE</th>\n",
              "      <th>GBP_CLOSE</th>\n",
              "      <th>y</th>\n",
              "    </tr>\n",
              "  </thead>\n",
              "  <tbody>\n",
              "    <tr>\n",
              "      <th>0</th>\n",
              "      <td>2007-05-01</td>\n",
              "      <td>0.92</td>\n",
              "      <td>0.2</td>\n",
              "      <td>1.51</td>\n",
              "      <td>0.141970</td>\n",
              "      <td>0.009271</td>\n",
              "      <td>0.1</td>\n",
              "      <td>0.82</td>\n",
              "      <td>0.1860</td>\n",
              "      <td>0.17</td>\n",
              "      <td>0.91</td>\n",
              "      <td>2.2199</td>\n",
              "      <td>1.1105</td>\n",
              "    </tr>\n",
              "    <tr>\n",
              "      <th>1</th>\n",
              "      <td>2007-05-02</td>\n",
              "      <td>0.91</td>\n",
              "      <td>0.2</td>\n",
              "      <td>1.51</td>\n",
              "      <td>0.141740</td>\n",
              "      <td>0.009232</td>\n",
              "      <td>0.1</td>\n",
              "      <td>0.82</td>\n",
              "      <td>0.1854</td>\n",
              "      <td>0.17</td>\n",
              "      <td>0.91</td>\n",
              "      <td>2.2055</td>\n",
              "      <td>1.1087</td>\n",
              "    </tr>\n",
              "    <tr>\n",
              "      <th>2</th>\n",
              "      <td>2007-05-03</td>\n",
              "      <td>0.91</td>\n",
              "      <td>0.2</td>\n",
              "      <td>1.50</td>\n",
              "      <td>0.141496</td>\n",
              "      <td>0.009190</td>\n",
              "      <td>0.1</td>\n",
              "      <td>0.81</td>\n",
              "      <td>0.1847</td>\n",
              "      <td>0.16</td>\n",
              "      <td>0.91</td>\n",
              "      <td>2.1999</td>\n",
              "      <td>1.1066</td>\n",
              "    </tr>\n",
              "    <tr>\n",
              "      <th>3</th>\n",
              "      <td>2007-05-04</td>\n",
              "      <td>0.91</td>\n",
              "      <td>0.2</td>\n",
              "      <td>1.51</td>\n",
              "      <td>0.141616</td>\n",
              "      <td>0.009218</td>\n",
              "      <td>0.1</td>\n",
              "      <td>0.81</td>\n",
              "      <td>0.1854</td>\n",
              "      <td>0.16</td>\n",
              "      <td>0.91</td>\n",
              "      <td>2.2075</td>\n",
              "      <td>1.1075</td>\n",
              "    </tr>\n",
              "    <tr>\n",
              "      <th>4</th>\n",
              "      <td>2007-05-05</td>\n",
              "      <td>0.91</td>\n",
              "      <td>0.2</td>\n",
              "      <td>1.51</td>\n",
              "      <td>0.141616</td>\n",
              "      <td>0.009218</td>\n",
              "      <td>0.1</td>\n",
              "      <td>0.81</td>\n",
              "      <td>0.1854</td>\n",
              "      <td>0.16</td>\n",
              "      <td>0.91</td>\n",
              "      <td>2.2075</td>\n",
              "      <td>1.1075</td>\n",
              "    </tr>\n",
              "  </tbody>\n",
              "</table>\n",
              "</div>"
            ],
            "text/plain": [
              "          ds  AUD_CLOSE  DKK_CLOSE  EUR_CLOSE  HKD_CLOSE  JPY_CLOSE  \\\n",
              "0 2007-05-01       0.92        0.2       1.51   0.141970   0.009271   \n",
              "1 2007-05-02       0.91        0.2       1.51   0.141740   0.009232   \n",
              "2 2007-05-03       0.91        0.2       1.50   0.141496   0.009190   \n",
              "3 2007-05-04       0.91        0.2       1.51   0.141616   0.009218   \n",
              "4 2007-05-05       0.91        0.2       1.51   0.141616   0.009218   \n",
              "\n",
              "   MXN_CLOSE  NZD_CLOSE  NOK_CLOSE  SEK_CLOSE  CHF_CLOSE  GBP_CLOSE       y  \n",
              "0        0.1       0.82     0.1860       0.17       0.91     2.2199  1.1105  \n",
              "1        0.1       0.82     0.1854       0.17       0.91     2.2055  1.1087  \n",
              "2        0.1       0.81     0.1847       0.16       0.91     2.1999  1.1066  \n",
              "3        0.1       0.81     0.1854       0.16       0.91     2.2075  1.1075  \n",
              "4        0.1       0.81     0.1854       0.16       0.91     2.2075  1.1075  "
            ]
          },
          "execution_count": 19,
          "metadata": {},
          "output_type": "execute_result"
        }
      ],
      "source": [
        "np_train_df.head(5)"
      ]
    },
    {
      "cell_type": "markdown",
      "id": "round-attitude",
      "metadata": {
        "id": "round-attitude"
      },
      "source": [
        "## Baseline/Default Model\n",
        "\n",
        "A baseline NeuralProphet model with lagged regressors using default initialization parameters, except:\n",
        "\n",
        "- `n_lags=lag_time`, specifying that the autoregressive component of the model should use the past `lag_time` daily observations as inputs\n",
        "- `n_forecasts=lead_time`, specifying that our use case is to predict the target signal `lead_time` days into the future\n",
        "\n"
      ]
    },
    {
      "cell_type": "code",
      "execution_count": null,
      "id": "external-detection",
      "metadata": {
        "id": "external-detection"
      },
      "outputs": [],
      "source": [
        "np_model = NeuralProphet(n_lags=lag_time, n_forecasts=lead_time)\n",
        "\n",
        "# Add the non-target feature columns as lagged regressors\n",
        "feature_cols = [col for col in np_train_df if col not in ('USD_CLOSE', 'ds', 'y')]\n",
        "for feature in feature_cols:\n",
        "    np_model.add_lagged_regressor(f'{feature}')\n",
        "    \n",
        "np_model.fit(np_train_df, freq='D')"
      ]
    },
    {
      "cell_type": "markdown",
      "id": "TOY5P1Hq2Ned",
      "metadata": {
        "id": "TOY5P1Hq2Ned"
      },
      "source": [
        "NeuralProphet, rather annoyingly, does not collect forecasts into a single `yhat` variable, but rather into separate `yhats` for each of the lead times. The following function takes a NeuralProphet forecast and returns a time series of its predictions."
      ]
    },
    {
      "cell_type": "code",
      "execution_count": 21,
      "id": "3b02fbce",
      "metadata": {},
      "outputs": [],
      "source": [
        "def yhat_from_neuralprophet_forecast(np_forecast, yhat_name):\n",
        "\n",
        "    yhat_columns = ['ds'] + [col for col in np_forecast.columns if \"yhat\" in col]\n",
        "    yhat_df = np_forecast.loc[np_forecast.ds.isin(test_df.date)][yhat_columns].set_index('ds')\n",
        "    yhat_values = np.diag(yhat_df.values)\n",
        "    return yhat_df, pd.Series(yhat_values, index=yhat_df.index, name=yhat_name)"
      ]
    },
    {
      "cell_type": "markdown",
      "id": "25dda902",
      "metadata": {},
      "source": [
        "Since NeuralProphet uses a fixed-size input sequence (lagged observations) to produce forecasts, we iterate over the input sequences in the test set and use them as model inputs to produce forecasts. This mode of inference should be more familiar to machine learning practitioners than Prophet's. Note that NeuralProphet requires us to first format input data using the `make_future_dataframe` function before running inference using the `predict` function. We define the following function, which produces forecasts for each of the input/ground-truth-output sequences in the test set."
      ]
    },
    {
      "cell_type": "code",
      "execution_count": 22,
      "id": "ccfb774e",
      "metadata": {},
      "outputs": [],
      "source": [
        "def collect_np_forecasts(np_model, test_dataset):\n",
        "\n",
        "    forecasts = []\n",
        "\n",
        "    for i in range(len(test_dataset)):\n",
        "        \n",
        "        x, y, x_d, y_d = test_dataset[i]\n",
        "        x = x.reset_index().rename({'date':'ds', 'USD_CLOSE':'y'}, axis=1).drop('index', axis=1)\n",
        "        x = x.assign(ds=x_d.reset_index().drop('index', axis=1).values)\n",
        "        y = y.reset_index().rename({'date':'ds', 'USD_CLOSE':'y'}, axis=1).drop('index', axis=1)\n",
        "\n",
        "        np_future_df = np_model.make_future_dataframe(x, periods=len(y))\n",
        "        np_forecast = np_model.predict(np_future_df, decompose=False)\n",
        "        _, fc_series = yhat_from_neuralprophet_forecast(np_forecast.iloc[-lead_time:], 'np_yhat')\n",
        "        forecasts.append(fc_series)\n",
        "\n",
        "    return forecasts"
      ]
    },
    {
      "cell_type": "markdown",
      "id": "7f527afb",
      "metadata": {},
      "source": [
        "Similarly to what we defined for Prophet, we define the following function for computing and collecting evaluation metrics over all of the forecasts."
      ]
    },
    {
      "cell_type": "code",
      "execution_count": 23,
      "id": "guided-local",
      "metadata": {
        "colab": {
          "base_uri": "https://localhost:8080/",
          "height": 497
        },
        "id": "guided-local",
        "outputId": "3adad78b-e26f-4c49-a9b1-f39439ff1984"
      },
      "outputs": [],
      "source": [
        "def compute_np_error_metrics(forecasts):\n",
        "\n",
        "    errors = {metric_name:[] for metric_name in metrics.keys()}\n",
        "\n",
        "    for i in range(len(forecasts)):\n",
        "        \n",
        "        fc = forecasts[i]\n",
        "        gt = test_df.loc[test_df.date.isin(fc.index)].sort_values('date')  # Sorting because I am not 100% sure that the 'isin' function always preserves order.\n",
        "        \n",
        "        for metric_name, metric_fn in metrics.items(): \n",
        "                errors[metric_name].append(metric_fn(y_true=gt['USD_CLOSE'], y_pred=fc))\n",
        "\n",
        "    return errors, forecasts\n",
        "\n",
        "forecasts = collect_np_forecasts(np_model, test_dataset)\n",
        "np_baseline_error_metrics, fcs = compute_np_error_metrics(forecasts)"
      ]
    },
    {
      "cell_type": "markdown",
      "id": "7110b2e4",
      "metadata": {},
      "source": [
        "### Plot all forecasts\n",
        "\n",
        "We have the option to visualize complete forecasts at every time step, but it does not tell us much about the model's performance."
      ]
    },
    {
      "cell_type": "code",
      "execution_count": 24,
      "id": "8d3b912d",
      "metadata": {},
      "outputs": [
        {
          "data": {
            "text/plain": [
              "Text(0.5, 1.0, 'Forecasts at all lead times (1 to 30 samples)')"
            ]
          },
          "execution_count": 24,
          "metadata": {},
          "output_type": "execute_result"
        },
        {
          "data": {
            "image/png": "[encoded data removed]",
            "text/plain": [
              "<Figure size 576x216 with 1 Axes>"
            ]
          },
          "metadata": {
            "needs_background": "light"
          },
          "output_type": "display_data"
        }
      ],
      "source": [
        "fig, ax = plt.subplots(figsize=(8,3))\n",
        "\n",
        "for i in range(len(forecasts)):\n",
        "\n",
        "    fc = forecasts[i]\n",
        "    gt = test_df.loc[test_df.date.isin(fc.index)]\n",
        "\n",
        "    ax.plot(fc.index[:], fc[:], alpha=0.1, color='red')\n",
        "    ax.plot(gt.date, gt['USD_CLOSE'], alpha=0.1, color='blue')\n",
        "plt.title(f\"Forecasts at all lead times (1 to {lead_time} samples)\")"
      ]
    },
    {
      "cell_type": "markdown",
      "id": "b6573d52",
      "metadata": {},
      "source": [
        "### Plot all forecasts at max lead time\n",
        "\n",
        "Alternatively, we can visualize only the last point of each forecast. This is perhaps a more useful visualization which reflects the model's performance when predicting at horizons of exactly `lead_time` points into the future. "
      ]
    },
    {
      "cell_type": "code",
      "execution_count": 25,
      "id": "d0a7ff2c",
      "metadata": {},
      "outputs": [
        {
          "data": {
            "text/plain": [
              "<matplotlib.legend.Legend at 0x7fbafaee2f10>"
            ]
          },
          "execution_count": 25,
          "metadata": {},
          "output_type": "execute_result"
        },
        {
          "data": {
            "image/png": "[encoded data removed]",
            "text/plain": [
              "<Figure size 576x216 with 1 Axes>"
            ]
          },
          "metadata": {
            "needs_background": "light"
          },
          "output_type": "display_data"
        }
      ],
      "source": [
        "max_fcs = [{'date': fc.index[-1:][0], 'yhat':fc[-1:][0]} for fc in forecasts]\n",
        "max_fcs = pd.DataFrame(max_fcs)\n",
        "\n",
        "fig, ax = plt.subplots(figsize=(8,3))\n",
        "ax.plot(max_fcs.date, max_fcs.yhat, color='red', label='forecast')\n",
        "ax.plot(test_df.date, test_df['USD_CLOSE'], color='blue', label='ground truth')\n",
        "plt.title(f\"Forecasts at max lead time ({lead_time} samples)\")\n",
        "plt.legend()"
      ]
    },
    {
      "cell_type": "markdown",
      "id": "8c20a555",
      "metadata": {},
      "source": [
        "### Append evaluation metrics to `results_df`"
      ]
    },
    {
      "cell_type": "code",
      "execution_count": 26,
      "id": "15bc5b9f",
      "metadata": {},
      "outputs": [
        {
          "data": {
            "text/html": [
              "<div>\n",
              "<style scoped>\n",
              "    .dataframe tbody tr th:only-of-type {\n",
              "        vertical-align: middle;\n",
              "    }\n",
              "\n",
              "    .dataframe tbody tr th {\n",
              "        vertical-align: top;\n",
              "    }\n",
              "\n",
              "    .dataframe thead th {\n",
              "        text-align: right;\n",
              "    }\n",
              "</style>\n",
              "<table border=\"1\" class=\"dataframe\">\n",
              "  <thead>\n",
              "    <tr style=\"text-align: right;\">\n",
              "      <th></th>\n",
              "      <th>mse</th>\n",
              "      <th>rmse</th>\n",
              "      <th>mae</th>\n",
              "      <th>mape</th>\n",
              "    </tr>\n",
              "  </thead>\n",
              "  <tbody>\n",
              "    <tr>\n",
              "      <th>prophet_mean_metrics</th>\n",
              "      <td>0.004989</td>\n",
              "      <td>0.062002</td>\n",
              "      <td>0.060038</td>\n",
              "      <td>0.045071</td>\n",
              "    </tr>\n",
              "    <tr>\n",
              "      <th>neural_prophet_baseline_mean_metrics</th>\n",
              "      <td>0.014384</td>\n",
              "      <td>0.113706</td>\n",
              "      <td>0.108752</td>\n",
              "      <td>0.082154</td>\n",
              "    </tr>\n",
              "  </tbody>\n",
              "</table>\n",
              "</div>"
            ],
            "text/plain": [
              "                                           mse      rmse       mae      mape\n",
              "prophet_mean_metrics                  0.004989  0.062002  0.060038  0.045071\n",
              "neural_prophet_baseline_mean_metrics  0.014384  0.113706  0.108752  0.082154"
            ]
          },
          "execution_count": 26,
          "metadata": {},
          "output_type": "execute_result"
        }
      ],
      "source": [
        "results_df = results_df.append(compute_error_statistics(np_baseline_error_metrics, 'neural_prophet_baseline')['mean'])\n",
        "results_df"
      ]
    },
    {
      "cell_type": "markdown",
      "id": "E8ko7L71DXSB",
      "metadata": {
        "id": "E8ko7L71DXSB"
      },
      "source": [
        "## Restricted model\n",
        "\n",
        "The baseline NeuralProphet model does not perform well on out-of-sample data. We can consider multiple changes to the model's configuration and hyperparameters in pursuit of better performance. Let's consider the following configuration that restricts the model to using only the last observed value of last regressors, as opposed to `n_lags` past observations. While less expressive, this model may be less prone to overfitting."
      ]
    },
    {
      "cell_type": "code",
      "execution_count": null,
      "id": "tJ51Uvw5BFhj",
      "metadata": {
        "id": "tJ51Uvw5BFhj"
      },
      "outputs": [],
      "source": [
        "np_model_last_sample_only = NeuralProphet(n_lags=lag_time, n_forecasts=lead_time)\n",
        "\n",
        "# Add the non-target feature columns as lagged regressors\n",
        "feature_cols = [col for col in np_train_df if col not in ('USD_CLOSE', 'ds', 'y')]\n",
        "for feature in feature_cols:\n",
        "    np_model_last_sample_only.add_lagged_regressor(f'{feature}', only_last_value=True)\n",
        "    \n",
        "np_model_last_sample_only.fit(np_train_df, freq='D')\n",
        "forecasts = collect_np_forecasts(np_model_last_sample_only, test_dataset)\n",
        "np_last_sample_only_error_metrics, fcs = compute_np_error_metrics(forecasts)"
      ]
    },
    {
      "cell_type": "markdown",
      "id": "a69dec21",
      "metadata": {},
      "source": [
        "### Plot forecasts at max lead time"
      ]
    },
    {
      "cell_type": "code",
      "execution_count": 28,
      "id": "aa346d37",
      "metadata": {},
      "outputs": [
        {
          "data": {
            "text/plain": [
              "<matplotlib.legend.Legend at 0x7fbaf807f970>"
            ]
          },
          "execution_count": 28,
          "metadata": {},
          "output_type": "execute_result"
        },
        {
          "data": {
            "image/png": "[encoded data removed]",
            "text/plain": [
              "<Figure size 576x216 with 1 Axes>"
            ]
          },
          "metadata": {
            "needs_background": "light"
          },
          "output_type": "display_data"
        }
      ],
      "source": [
        "max_fcs = [{'date': fc.index[-1:][0], 'yhat':fc[-1:][0]} for fc in forecasts]\n",
        "max_fcs = pd.DataFrame(max_fcs)\n",
        "\n",
        "fig, ax = plt.subplots(figsize=(8,3))\n",
        "ax.plot(max_fcs.date, max_fcs.yhat, color='red', label='forecast')\n",
        "ax.plot(test_df.date, test_df['USD_CLOSE'], color='blue', label='ground truth')\n",
        "plt.title(f\"Forecasts at max lead time ({lead_time} samples)\")\n",
        "plt.legend()"
      ]
    },
    {
      "cell_type": "markdown",
      "id": "f8230d37",
      "metadata": {},
      "source": [
        "### Append evaluation metrics to `results_df`"
      ]
    },
    {
      "cell_type": "code",
      "execution_count": 29,
      "id": "242e61cf",
      "metadata": {},
      "outputs": [
        {
          "data": {
            "text/html": [
              "<div>\n",
              "<style scoped>\n",
              "    .dataframe tbody tr th:only-of-type {\n",
              "        vertical-align: middle;\n",
              "    }\n",
              "\n",
              "    .dataframe tbody tr th {\n",
              "        vertical-align: top;\n",
              "    }\n",
              "\n",
              "    .dataframe thead th {\n",
              "        text-align: right;\n",
              "    }\n",
              "</style>\n",
              "<table border=\"1\" class=\"dataframe\">\n",
              "  <thead>\n",
              "    <tr style=\"text-align: right;\">\n",
              "      <th></th>\n",
              "      <th>mse</th>\n",
              "      <th>rmse</th>\n",
              "      <th>mae</th>\n",
              "      <th>mape</th>\n",
              "    </tr>\n",
              "  </thead>\n",
              "  <tbody>\n",
              "    <tr>\n",
              "      <th>prophet_mean_metrics</th>\n",
              "      <td>0.004989</td>\n",
              "      <td>0.062002</td>\n",
              "      <td>0.060038</td>\n",
              "      <td>0.045071</td>\n",
              "    </tr>\n",
              "    <tr>\n",
              "      <th>neural_prophet_baseline_mean_metrics</th>\n",
              "      <td>0.014384</td>\n",
              "      <td>0.113706</td>\n",
              "      <td>0.108752</td>\n",
              "      <td>0.082154</td>\n",
              "    </tr>\n",
              "    <tr>\n",
              "      <th>neural_prophet_last_sample_only_mean_metrics</th>\n",
              "      <td>0.000862</td>\n",
              "      <td>0.026736</td>\n",
              "      <td>0.023530</td>\n",
              "      <td>0.017774</td>\n",
              "    </tr>\n",
              "  </tbody>\n",
              "</table>\n",
              "</div>"
            ],
            "text/plain": [
              "                                                   mse      rmse       mae  \\\n",
              "prophet_mean_metrics                          0.004989  0.062002  0.060038   \n",
              "neural_prophet_baseline_mean_metrics          0.014384  0.113706  0.108752   \n",
              "neural_prophet_last_sample_only_mean_metrics  0.000862  0.026736  0.023530   \n",
              "\n",
              "                                                  mape  \n",
              "prophet_mean_metrics                          0.045071  \n",
              "neural_prophet_baseline_mean_metrics          0.082154  \n",
              "neural_prophet_last_sample_only_mean_metrics  0.017774  "
            ]
          },
          "execution_count": 29,
          "metadata": {},
          "output_type": "execute_result"
        }
      ],
      "source": [
        "results_df = results_df.append(compute_error_statistics(np_last_sample_only_error_metrics, 'neural_prophet_last_sample_only')['mean'])\n",
        "results_df"
      ]
    },
    {
      "cell_type": "markdown",
      "id": "rNDiJ6ZZwx6k",
      "metadata": {
        "id": "rNDiJ6ZZwx6k"
      },
      "source": [
        "## Model with Sparse Neural Autoregression"
      ]
    },
    {
      "cell_type": "code",
      "execution_count": null,
      "id": "YHNbfWRUxDuS",
      "metadata": {
        "id": "YHNbfWRUxDuS"
      },
      "outputs": [],
      "source": [
        "np_model_sparse_nar = NeuralProphet(n_lags=lag_time, \n",
        "                                    n_forecasts=lead_time,\n",
        "                                    learning_rate=1e-2,\n",
        "                                    num_hidden_layers=1,\n",
        "                                    d_hidden=16,\n",
        "                                    ar_sparsity=0.9\n",
        "                                    )\n",
        "\n",
        "# Add the non-target feature columns as lagged regressors\n",
        "feature_cols = [col for col in np_train_df if col not in ('USD_CLOSE', 'ds', 'y')]\n",
        "for feature in feature_cols:\n",
        "    np_model_sparse_nar.add_lagged_regressor(f'{feature}')\n",
        "    \n",
        "np_model_sparse_nar.fit(np_train_df, freq='D')\n",
        "forecasts = collect_np_forecasts(np_model_sparse_nar, test_dataset)\n",
        "np_sparse_ar_error_metrics, fcs = compute_np_error_metrics(forecasts)"
      ]
    },
    {
      "cell_type": "markdown",
      "id": "dd55ae66",
      "metadata": {},
      "source": [
        "### Plot forecasts at max lead time"
      ]
    },
    {
      "cell_type": "code",
      "execution_count": 31,
      "id": "gJszSXMA0NJO",
      "metadata": {
        "colab": {
          "base_uri": "https://localhost:8080/",
          "height": 175
        },
        "id": "gJszSXMA0NJO",
        "outputId": "55eff862-a844-4622-d509-d0978776eecf"
      },
      "outputs": [
        {
          "data": {
            "text/plain": [
              "<matplotlib.legend.Legend at 0x7fbafd713100>"
            ]
          },
          "execution_count": 31,
          "metadata": {},
          "output_type": "execute_result"
        },
        {
          "data": {
            "image/png": "[encoded data removed]",
            "text/plain": [
              "<Figure size 576x216 with 1 Axes>"
            ]
          },
          "metadata": {
            "needs_background": "light"
          },
          "output_type": "display_data"
        }
      ],
      "source": [
        "max_fcs = [{'date': fc.index[-1:][0], 'yhat':fc[-1:][0]} for fc in forecasts]\n",
        "max_fcs = pd.DataFrame(max_fcs)\n",
        "\n",
        "fig, ax = plt.subplots(figsize=(8,3))\n",
        "ax.plot(max_fcs.date, max_fcs.yhat, color='red', label='forecast')\n",
        "ax.plot(test_df.date, test_df['USD_CLOSE'], color='blue', label='ground truth')\n",
        "plt.title(f\"Forecasts at max lead time ({lead_time} samples)\")\n",
        "plt.legend()"
      ]
    },
    {
      "cell_type": "markdown",
      "id": "f3d60b5f",
      "metadata": {},
      "source": [
        "### Append evaluation metrics to `results_df`"
      ]
    },
    {
      "cell_type": "code",
      "execution_count": 34,
      "id": "89eabc43",
      "metadata": {},
      "outputs": [
        {
          "data": {
            "text/html": [
              "<div>\n",
              "<style scoped>\n",
              "    .dataframe tbody tr th:only-of-type {\n",
              "        vertical-align: middle;\n",
              "    }\n",
              "\n",
              "    .dataframe tbody tr th {\n",
              "        vertical-align: top;\n",
              "    }\n",
              "\n",
              "    .dataframe thead th {\n",
              "        text-align: right;\n",
              "    }\n",
              "</style>\n",
              "<table border=\"1\" class=\"dataframe\">\n",
              "  <thead>\n",
              "    <tr style=\"text-align: right;\">\n",
              "      <th></th>\n",
              "      <th>mse</th>\n",
              "      <th>rmse</th>\n",
              "      <th>mae</th>\n",
              "      <th>mape</th>\n",
              "    </tr>\n",
              "  </thead>\n",
              "  <tbody>\n",
              "    <tr>\n",
              "      <th>neural_prophet_last_sample_only_mean_metrics</th>\n",
              "      <td>0.000862</td>\n",
              "      <td>0.026736</td>\n",
              "      <td>0.023530</td>\n",
              "      <td>0.017774</td>\n",
              "    </tr>\n",
              "    <tr>\n",
              "      <th>prophet_mean_metrics</th>\n",
              "      <td>0.004989</td>\n",
              "      <td>0.062002</td>\n",
              "      <td>0.060038</td>\n",
              "      <td>0.045071</td>\n",
              "    </tr>\n",
              "    <tr>\n",
              "      <th>neural_prophet_sparse_ar_mean_metrics</th>\n",
              "      <td>0.009778</td>\n",
              "      <td>0.072173</td>\n",
              "      <td>0.059887</td>\n",
              "      <td>0.045218</td>\n",
              "    </tr>\n",
              "    <tr>\n",
              "      <th>neural_prophet_baseline_mean_metrics</th>\n",
              "      <td>0.014384</td>\n",
              "      <td>0.113706</td>\n",
              "      <td>0.108752</td>\n",
              "      <td>0.082154</td>\n",
              "    </tr>\n",
              "  </tbody>\n",
              "</table>\n",
              "</div>"
            ],
            "text/plain": [
              "                                                   mse      rmse       mae  \\\n",
              "neural_prophet_last_sample_only_mean_metrics  0.000862  0.026736  0.023530   \n",
              "prophet_mean_metrics                          0.004989  0.062002  0.060038   \n",
              "neural_prophet_sparse_ar_mean_metrics         0.009778  0.072173  0.059887   \n",
              "neural_prophet_baseline_mean_metrics          0.014384  0.113706  0.108752   \n",
              "\n",
              "                                                  mape  \n",
              "neural_prophet_last_sample_only_mean_metrics  0.017774  \n",
              "prophet_mean_metrics                          0.045071  \n",
              "neural_prophet_sparse_ar_mean_metrics         0.045218  \n",
              "neural_prophet_baseline_mean_metrics          0.082154  "
            ]
          },
          "execution_count": 34,
          "metadata": {},
          "output_type": "execute_result"
        }
      ],
      "source": [
        "results_df = results_df.append(compute_error_statistics(np_sparse_ar_error_metrics, 'neural_prophet_sparse_ar')['mean'])\n",
        "results_df.sort_values('mape')"
      ]
    },
    {
      "cell_type": "markdown",
      "id": "J7GuAAzvwUNF",
      "metadata": {
        "id": "J7GuAAzvwUNF"
      },
      "source": [
        "# Reflections and Next Steps\n",
        "\n",
        "So far, the best performing model on the exchange rates dataset is the restricted NeuralProphet model that uses only the last observation of lagged regressors as features. Of course, we have only considered a very small number of comfigurations using NeuralProphet, many more model and hyperparameter configurations are possible. Please refer to the [NeuralProphet documentation](https://neuralprophet.com/html/contents.html) for detailed information. However, to *find* a better configuration may require significant effort, either manual or automated (via a hyperparameter search, for example). In practical forecasting use cases, it may be important to consider the time, resources, and effort that are needed to find a forecasting model that is better than  baseline.\n",
        "\n",
        "The following notebooks in this series will cover additional models (N-BEATS and DeepAR) as well as rolling cross validation using NeuralProphet. In order to compare the out-of-sample forecasts produced by this notebook to others, the `results_df` DataFrame is saved below. Hopefully we will find a model that performs even better in our out-of-sample evaluation experiment!"
      ]
    },
    {
      "cell_type": "code",
      "execution_count": 35,
      "id": "AWA0tjyfGQWD",
      "metadata": {
        "id": "AWA0tjyfGQWD"
      },
      "outputs": [],
      "source": [
        "output_filename = \"/Volumes/GoogleDrive/My Drive/Forecasting/bootcamp_datasets/exchange_rate/exchange_rate_mean_test_metrics.csv\"\n",
        "results_df.to_csv(output_filename)"
      ]
    }
  ],
  "metadata": {
    "colab": {
      "collapsed_sections": [],
      "name": "exchange_dataset.ipynb",
      "provenance": [],
      "toc_visible": true
    },
    "interpreter": {
      "hash": "e7915587377f13d9edba30ea11b3c98d6b26a63b60775c72ad031792b92d4187"
    },
    "kernelspec": {
      "display_name": "Forecasting",
      "language": "python",
      "name": "python3"
    },
    "language_info": {
      "codemirror_mode": {
        "name": "ipython",
        "version": 3
      },
      "file_extension": ".py",
      "mimetype": "text/x-python",
      "name": "python",
      "nbconvert_exporter": "python",
      "pygments_lexer": "ipython3",
      "version": "3.8.3"
    }
  },
  "nbformat": 4,
  "nbformat_minor": 5
}
